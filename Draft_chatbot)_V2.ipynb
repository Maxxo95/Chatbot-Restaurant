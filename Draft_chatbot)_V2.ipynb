{
 "cells": [
  {
   "cell_type": "markdown",
   "id": "b758373f-7698-4879-b206-d84126f36f40",
   "metadata": {},
   "source": [
    "# Data Cleaning and Preparation"
   ]
  },
  {
   "cell_type": "code",
   "execution_count": 1,
   "id": "c7a30441-88df-4893-a3c9-f598ed1b0c65",
   "metadata": {},
   "outputs": [],
   "source": [
    "import numpy as np\n",
    "import pandas as pd\n",
    "import matplotlib.pyplot as plt\n",
    "import seaborn as sns"
   ]
  },
  {
   "cell_type": "code",
   "execution_count": null,
   "id": "406a9c5b-64be-4b97-9cf1-9384364bc7e5",
   "metadata": {},
   "outputs": [],
   "source": [
    "### will be removed this is only for the way im inputting hte data from the emails"
   ]
  },
  {
   "cell_type": "code",
   "execution_count": null,
   "id": "9a226f65-77d2-4d77-9b27-0c7957283676",
   "metadata": {},
   "outputs": [],
   "source": [
    "nltk.download('averaged_perceptron_tagger')\n",
    "nltk.download('maxent_ne_chunker')\n",
    "nltk.download('wordnet')\n",
    "nltk.download('omw-1.4')"
   ]
  },
  {
   "cell_type": "markdown",
   "id": "9979253c-2e44-4341-88ae-582dddd635b1",
   "metadata": {},
   "source": [
    "## Data Cleaning"
   ]
  },
  {
   "cell_type": "code",
   "execution_count": 256,
   "id": "184b682a-c35d-4f8b-bc81-f08009e3762c",
   "metadata": {},
   "outputs": [
    {
     "data": {
      "text/plain": [
       "(2288, 2)"
      ]
     },
     "execution_count": 256,
     "metadata": {},
     "output_type": "execute_result"
    }
   ],
   "source": [
    "mess = pd.read_csv('messages_for_labeling.csv')\n",
    "mess.shape"
   ]
  },
  {
   "cell_type": "code",
   "execution_count": 322,
   "id": "45a1d84d-3a22-47a0-ad90-ffcb2b388edf",
   "metadata": {},
   "outputs": [
    {
     "data": {
      "text/plain": [
       "message       0\n",
       "label      2226\n",
       "dtype: int64"
      ]
     },
     "execution_count": 322,
     "metadata": {},
     "output_type": "execute_result"
    }
   ],
   "source": [
    "CategorMsg = mess.loc[:].dropna()\n",
    "mess.isnull().sum() "
   ]
  },
  {
   "cell_type": "code",
   "execution_count": 248,
   "id": "60460027-41b7-441a-96f6-6083df9f8c66",
   "metadata": {},
   "outputs": [
    {
     "name": "stdout",
     "output_type": "stream",
     "text": [
      "Unique label values:\n",
      "['GREET' 'BOOK' 'CONF' 'THANK' 'BI' 'INFO' 'CONTACT' 'BIB' 'GRB' 'GOODREV'\n",
      " 'COMPL']\n"
     ]
    }
   ],
   "source": [
    "print(\"Unique label values:\")\n",
    "print(CategorMsg['label'].unique())"
   ]
  },
  {
   "cell_type": "code",
   "execution_count": 324,
   "id": "2c77a626-97de-4f71-ba5a-904a1482e182",
   "metadata": {},
   "outputs": [],
   "source": [
    "chatbot_df = pd.read_csv('chatbot_data.csv')"
   ]
  },
  {
   "cell_type": "code",
   "execution_count": 326,
   "id": "5ad1adbb-e02c-4e28-9608-cfec7fb5d900",
   "metadata": {},
   "outputs": [],
   "source": [
    "# Remove \"Woodfire and Wings\" \n",
    "chatbot_df[\"Branch\"] = chatbot_df[\"Branch\"].str.replace(\"Woodfire and Wings\", \"\", regex=False).str.strip()\n",
    "\n",
    "# Merge \"Branch\" into \"Location\" if \"Location\" \n",
    "chatbot_df[\"Location\"] = chatbot_df[\"Location\"].fillna(chatbot_df[\"Branch\"])\n",
    "\n"
   ]
  },
  {
   "cell_type": "code",
   "execution_count": 328,
   "id": "aaccb5b7-541f-4817-817e-977d87f67742",
   "metadata": {},
   "outputs": [
    {
     "data": {
      "text/plain": [
       "Name           14\n",
       "Email           5\n",
       "Location      375\n",
       "Branch        625\n",
       "Party Size    611\n",
       "Date            2\n",
       "Time            1\n",
       "Message         2\n",
       "dtype: int64"
      ]
     },
     "execution_count": 328,
     "metadata": {},
     "output_type": "execute_result"
    }
   ],
   "source": [
    "chatbot_df.isnull().sum() "
   ]
  },
  {
   "cell_type": "code",
   "execution_count": null,
   "id": "925c9c3b-04bc-448d-9822-f85c1f1f71a1",
   "metadata": {},
   "outputs": [],
   "source": [
    "## CHEK null to manually remove if not date \n",
    "# chatbot_df[chatbot_df[\"Date\"].isnull()]\n",
    "chatbot_df = chatbot_df.drop([64, 683], axis=0)"
   ]
  },
  {
   "cell_type": "markdown",
   "id": "9602709d-ff5b-450d-a56b-32a0fe1820b4",
   "metadata": {},
   "source": [
    "## EDA & Data Preparation"
   ]
  },
  {
   "cell_type": "code",
   "execution_count": 334,
   "id": "f6493891-b542-4d88-8d79-f04b03a3ff8c",
   "metadata": {},
   "outputs": [],
   "source": [
    "email_to_id = {}\n",
    "def assign_customer_id(email):\n",
    "    if email not in email_to_id:\n",
    "        email_to_id[email] = len(email_to_id) + 1  \n",
    "    return email_to_id[email]\n",
    "\n",
    "# Apply function to create a new \"customer_id\" column\n",
    "chatbot_df[\"customer_id\"] = chatbot_df[\"Email\"].apply(assign_customer_id)\n",
    "\n",
    "chatbot_df = chatbot_df.drop(columns=[\"Branch\", \"Name\", \"Email\"])"
   ]
  },
  {
   "cell_type": "code",
   "execution_count": 119,
   "id": "8919beb6-81e2-4f1d-a819-c095fb2c8052",
   "metadata": {},
   "outputs": [],
   "source": [
    "chatbot_df.head()"
   ]
  },
  {
   "cell_type": "code",
   "execution_count": 336,
   "id": "9b50d5dd-1b31-41d2-a74e-5514fbf9c358",
   "metadata": {},
   "outputs": [],
   "source": [
    "#The first 79 rows of time are not correct \n",
    "#  'Time' to datetime format\n",
    "chatbot_df[\"Time\"] = pd.to_datetime(chatbot_df[\"Time\"], format=\"%I:%M %p\", errors='coerce')\n",
    "\n",
    "## Valid times non missing data\n",
    "valid_times = chatbot_df.loc[81:, \"Time\"].dropna()\n",
    "# Randomly assign times on missing data\n",
    "chatbot_df.loc[:79, \"Time\"] = np.random.choice(valid_times, size=80, replace=True)\n",
    "\n",
    "# Convert back \n",
    "chatbot_df[\"Time\"] = chatbot_df[\"Time\"].dt.strftime(\"%I:%M %p\")\n",
    "chatbot_df.to_csv('chatbot_data_cleaned.csv', index=False)"
   ]
  },
  {
   "cell_type": "code",
   "execution_count": 340,
   "id": "5e8b3b1c-22eb-4d15-8556-96e090a29224",
   "metadata": {},
   "outputs": [
    {
     "data": {
      "text/html": [
       "<div>\n",
       "<style scoped>\n",
       "    .dataframe tbody tr th:only-of-type {\n",
       "        vertical-align: middle;\n",
       "    }\n",
       "\n",
       "    .dataframe tbody tr th {\n",
       "        vertical-align: top;\n",
       "    }\n",
       "\n",
       "    .dataframe thead th {\n",
       "        text-align: right;\n",
       "    }\n",
       "</style>\n",
       "<table border=\"1\" class=\"dataframe\">\n",
       "  <thead>\n",
       "    <tr style=\"text-align: right;\">\n",
       "      <th></th>\n",
       "      <th>Location</th>\n",
       "      <th>Party Size</th>\n",
       "      <th>Time</th>\n",
       "      <th>Message</th>\n",
       "      <th>customer_id</th>\n",
       "      <th>Year</th>\n",
       "      <th>Month</th>\n",
       "      <th>Day</th>\n",
       "      <th>Weekday</th>\n",
       "    </tr>\n",
       "  </thead>\n",
       "  <tbody>\n",
       "    <tr>\n",
       "      <th>0</th>\n",
       "      <td>Stillorgan</td>\n",
       "      <td>30.0</td>\n",
       "      <td>12:13 PM</td>\n",
       "      <td>Hi, I hope you are having a lovely week so far...</td>\n",
       "      <td>1</td>\n",
       "      <td>2025</td>\n",
       "      <td>March</td>\n",
       "      <td>11</td>\n",
       "      <td>Tuesday</td>\n",
       "    </tr>\n",
       "    <tr>\n",
       "      <th>1</th>\n",
       "      <td>Clondalkin</td>\n",
       "      <td>NaN</td>\n",
       "      <td>05:13 PM</td>\n",
       "      <td>Could we get a wee dessert with a sparkler aft...</td>\n",
       "      <td>2</td>\n",
       "      <td>2025</td>\n",
       "      <td>March</td>\n",
       "      <td>22</td>\n",
       "      <td>Saturday</td>\n",
       "    </tr>\n",
       "    <tr>\n",
       "      <th>2</th>\n",
       "      <td>Stillorgan</td>\n",
       "      <td>NaN</td>\n",
       "      <td>10:35 AM</td>\n",
       "      <td>Hi just wondering would the restaurant be able...</td>\n",
       "      <td>3</td>\n",
       "      <td>2025</td>\n",
       "      <td>March</td>\n",
       "      <td>10</td>\n",
       "      <td>Monday</td>\n",
       "    </tr>\n",
       "    <tr>\n",
       "      <th>3</th>\n",
       "      <td>Clondalkin</td>\n",
       "      <td>NaN</td>\n",
       "      <td>07:50 PM</td>\n",
       "      <td>Hi There, Myself and my wife (Liz Wade 086 842...</td>\n",
       "      <td>4</td>\n",
       "      <td>2025</td>\n",
       "      <td>March</td>\n",
       "      <td>17</td>\n",
       "      <td>Monday</td>\n",
       "    </tr>\n",
       "    <tr>\n",
       "      <th>4</th>\n",
       "      <td>Stillorgan</td>\n",
       "      <td>NaN</td>\n",
       "      <td>07:37 PM</td>\n",
       "      <td>Hi, I think I placed a booking this morning fo...</td>\n",
       "      <td>5</td>\n",
       "      <td>2025</td>\n",
       "      <td>March</td>\n",
       "      <td>9</td>\n",
       "      <td>Sunday</td>\n",
       "    </tr>\n",
       "  </tbody>\n",
       "</table>\n",
       "</div>"
      ],
      "text/plain": [
       "     Location  Party Size      Time  \\\n",
       "0  Stillorgan        30.0  12:13 PM   \n",
       "1  Clondalkin         NaN  05:13 PM   \n",
       "2  Stillorgan         NaN  10:35 AM   \n",
       "3  Clondalkin         NaN  07:50 PM   \n",
       "4  Stillorgan         NaN  07:37 PM   \n",
       "\n",
       "                                             Message  customer_id  Year  \\\n",
       "0  Hi, I hope you are having a lovely week so far...            1  2025   \n",
       "1  Could we get a wee dessert with a sparkler aft...            2  2025   \n",
       "2  Hi just wondering would the restaurant be able...            3  2025   \n",
       "3  Hi There, Myself and my wife (Liz Wade 086 842...            4  2025   \n",
       "4  Hi, I think I placed a booking this morning fo...            5  2025   \n",
       "\n",
       "   Month  Day   Weekday  \n",
       "0  March   11   Tuesday  \n",
       "1  March   22  Saturday  \n",
       "2  March   10    Monday  \n",
       "3  March   17    Monday  \n",
       "4  March    9    Sunday  "
      ]
     },
     "execution_count": 340,
     "metadata": {},
     "output_type": "execute_result"
    }
   ],
   "source": [
    "import calendar\n",
    "chatbot_df[\"Date\"] = pd.to_datetime(chatbot_df[\"Date\"], errors=\"coerce\")\n",
    "\n",
    "# Extract Year, Month, Day, and Weekday\n",
    "chatbot_df[\"Year\"] = chatbot_df[\"Date\"].dt.year\n",
    "chatbot_df[\"Month\"] = chatbot_df[\"Date\"].dt.month\n",
    "chatbot_df[\"Day\"] = chatbot_df[\"Date\"].dt.day\n",
    "chatbot_df[\"Weekday\"] = chatbot_df[\"Date\"].dt.day_name()  # Get full weekday name\n",
    "\n",
    "# Convert Month number to Month name \n",
    "chatbot_df[\"Month\"] = chatbot_df[\"Month\"].fillna(0).astype(int)\n",
    "chatbot_df[\"Month\"] = chatbot_df[\"Month\"].apply(lambda x: calendar.month_name[x])\n",
    "chatbot_df = chatbot_df.drop(columns=[\"Date\"])\n",
    "chatbot_df.head()"
   ]
  },
  {
   "cell_type": "markdown",
   "id": "72e39a71-0592-46df-b5d9-cc383ecc71dd",
   "metadata": {},
   "source": [
    "# Exploratory Data Analysis "
   ]
  },
  {
   "cell_type": "code",
   "execution_count": 286,
   "id": "38c97756-ac0e-4f60-9b88-85229e5c5dd4",
   "metadata": {},
   "outputs": [
    {
     "data": {
      "text/plain": [
       "<seaborn.axisgrid.FacetGrid at 0x26cbb387800>"
      ]
     },
     "execution_count": 286,
     "metadata": {},
     "output_type": "execute_result"
    },
    {
     "data": {
      "image/png": "[encoded data removed]",
      "text/plain": [
       "<Figure size 500x500 with 1 Axes>"
      ]
     },
     "metadata": {},
     "output_type": "display_data"
    }
   ],
   "source": [
    "sns.displot(chatbot_df['Location'])"
   ]
  },
  {
   "cell_type": "code",
   "execution_count": 288,
   "id": "4619f47f-0863-49cf-b954-95ef3326fd0d",
   "metadata": {},
   "outputs": [
    {
     "data": {
      "text/plain": [
       "<Figure size 1200x600 with 0 Axes>"
      ]
     },
     "metadata": {},
     "output_type": "display_data"
    },
    {
     "data": {
      "image/png": "[encoded data removed]",
      "text/plain": [
       "<Figure size 1200x600 with 1 Axes>"
      ]
     },
     "metadata": {},
     "output_type": "display_data"
    }
   ],
   "source": [
    "# Group by Month and Location, and count the number of enquiries for each combination\n",
    "monthly_counts = chatbot_df.groupby([\"Month\", \"Location\"]).size().reset_index(name=\"EnquiryCount\")\n",
    "\n",
    "# Pivot the table to have a count of enquiries per month and location\n",
    "monthly_counts_pivot = monthly_counts.pivot_table(index=\"Month\", columns=\"Location\", values=\"EnquiryCount\", aggfunc=\"sum\", fill_value=0)\n",
    "\n",
    "# Plotting a Stacked Bar Plot \n",
    "plt.figure(figsize=(12, 6))\n",
    "monthly_counts_pivot.plot(kind=\"bar\", stacked=True, figsize=(12, 6))\n",
    "\n",
    "# \n",
    "plt.xticks(rotation=45)\n",
    "plt.xlabel(\"Month\")\n",
    "plt.ylabel(\"Number of Enquiries\")\n",
    "plt.title(\"Monthly Distribution of  Enquiries by Location\")\n",
    "plt.legend(title=\"Location\", loc=\"upper right\")\n",
    "\n",
    "plt.show()\n"
   ]
  },
  {
   "cell_type": "code",
   "execution_count": 290,
   "id": "65752cf1-80f7-4586-a84a-1f5878ea74bf",
   "metadata": {},
   "outputs": [
    {
     "name": "stderr",
     "output_type": "stream",
     "text": [
      "C:\\Users\\Acer Nitro\\AppData\\Local\\Temp\\ipykernel_11732\\1135481188.py:6: FutureWarning: The default value of observed=False is deprecated and will change to observed=True in a future version of pandas. Specify observed=False to silence this warning and retain the current behavior\n",
      "  weekday_counts_pivot = weekday_counts.pivot_table(index=\"Weekday\", columns=\"Location\", values=\"EnquiryCount\", aggfunc=\"sum\", fill_value=0)\n"
     ]
    },
    {
     "data": {
      "text/plain": [
       "<Figure size 1200x600 with 0 Axes>"
      ]
     },
     "metadata": {},
     "output_type": "display_data"
    },
    {
     "data": {
      "image/png": "[encoded data removed]",
      "text/plain": [
       "<Figure size 1200x600 with 1 Axes>"
      ]
     },
     "metadata": {},
     "output_type": "display_data"
    }
   ],
   "source": [
    "weekday_counts = chatbot_df.groupby([\"Weekday\", \"Location\"]).size().reset_index(name=\"EnquiryCount\")\n",
    "weekday_order = ['Monday', 'Tuesday', 'Wednesday', 'Thursday', 'Friday', 'Saturday', 'Sunday']\n",
    "weekday_counts[\"Weekday\"] = pd.Categorical(weekday_counts[\"Weekday\"], categories=weekday_order, ordered=True)\n",
    "\n",
    "# Pivot the table to have a count of enquiries per weekday and location\n",
    "weekday_counts_pivot = weekday_counts.pivot_table(index=\"Weekday\", columns=\"Location\", values=\"EnquiryCount\", aggfunc=\"sum\", fill_value=0)\n",
    "\n",
    "# Stacked bar\n",
    "plt.figure(figsize=(12, 6))\n",
    "weekday_counts_pivot.plot(kind=\"bar\", stacked=True, figsize=(12, 6))\n",
    "\n",
    "plt.xticks(rotation=45)\n",
    "plt.xlabel(\"Weekday\")\n",
    "plt.ylabel(\"Number of Enquiries\")\n",
    "plt.title(\"Weekly Distribution of Chatbot Enquiries by Location\")\n",
    "plt.legend(title=\"Location\", loc=\"upper right\")\n",
    "\n",
    "plt.show()"
   ]
  },
  {
   "cell_type": "code",
   "execution_count": 292,
   "id": "388e0631-a94d-4fe3-9270-082d8eec5f64",
   "metadata": {},
   "outputs": [
    {
     "data": {
      "image/png": "[encoded data removed]",
      "text/plain": [
       "<Figure size 800x500 with 1 Axes>"
      ]
     },
     "metadata": {},
     "output_type": "display_data"
    }
   ],
   "source": [
    "# format 24 hours\n",
    "chatbot_df[\"Time\"] = pd.to_datetime(chatbot_df[\"Time\"], format=\"%I:%M %p\", errors='coerce')\n",
    "chatbot_df[\"Time\"] = chatbot_df[\"Time\"].dt.hour  # Extract only the hour (0-23)\n",
    "\n",
    "# Plot the KDE distribution\n",
    "plt.figure(figsize=(8, 5))\n",
    "sns.kdeplot(chatbot_df['Time'], fill=True)\n",
    "\n",
    "\n",
    "plt.xticks(range(0, 25, 3)) \n",
    "plt.xlabel(\"Time (24-hour format)\")\n",
    "plt.ylabel(\"Density\")\n",
    "plt.title(\"Enquiry Time Distribution\")\n",
    "\n",
    "plt.show()"
   ]
  },
  {
   "cell_type": "markdown",
   "id": "4c61b189-1227-4b27-a471-5d77a3cfad52",
   "metadata": {},
   "source": [
    "# NLP"
   ]
  },
  {
   "cell_type": "markdown",
   "id": "08b662c8-d7fe-4aef-a3ab-e053a900e18b",
   "metadata": {},
   "source": [
    "### NLTK Tutorial"
   ]
  },
  {
   "cell_type": "code",
   "execution_count": 346,
   "id": "13b0ea5b-d1f0-48f8-877a-b8bddaace79f",
   "metadata": {},
   "outputs": [
    {
     "name": "stdout",
     "output_type": "stream",
     "text": [
      "Label to Index mapping:\n",
      "{'GREET': 0, 'BOOK': 1, 'CONF': 2, 'THANK': 3, 'BI': 4, 'INFO': 5, 'CONTACT': 6, 'BIB': 7, 'GRB': 8, 'GOODREV': 9, 'COMPL': 10}\n"
     ]
    },
    {
     "data": {
      "text/html": [
       "<div>\n",
       "<style scoped>\n",
       "    .dataframe tbody tr th:only-of-type {\n",
       "        vertical-align: middle;\n",
       "    }\n",
       "\n",
       "    .dataframe tbody tr th {\n",
       "        vertical-align: top;\n",
       "    }\n",
       "\n",
       "    .dataframe thead th {\n",
       "        text-align: right;\n",
       "    }\n",
       "</style>\n",
       "<table border=\"1\" class=\"dataframe\">\n",
       "  <thead>\n",
       "    <tr style=\"text-align: right;\">\n",
       "      <th></th>\n",
       "      <th>message</th>\n",
       "      <th>label_index</th>\n",
       "    </tr>\n",
       "  </thead>\n",
       "  <tbody>\n",
       "    <tr>\n",
       "      <th>0</th>\n",
       "      <td>Hi I hope you be have a lovely week so far</td>\n",
       "      <td>0</td>\n",
       "    </tr>\n",
       "  </tbody>\n",
       "</table>\n",
       "</div>"
      ],
      "text/plain": [
       "                                      message  label_index\n",
       "0  Hi I hope you be have a lovely week so far            0"
      ]
     },
     "execution_count": 346,
     "metadata": {},
     "output_type": "execute_result"
    }
   ],
   "source": [
    "# One-hot encode the 'label' column\n",
    "CategorMsg_dummies = pd.get_dummies(CategorMsg, columns=['label'])\n",
    "\n",
    "# Check the new DataFrame\n",
    "CategorMsg_dummies.head()\n",
    "\n",
    "# Create mapping of unique labels to integers\n",
    "label_map = {label: idx for idx, label in enumerate(CategorMsg['label'].unique())}\n",
    "\n",
    "# Apply mapping to a new column (or overwrite the existing one)\n",
    "CategorMsg['label_index'] = CategorMsg['label'].map(label_map)\n",
    "\n",
    "# Optional: Check the mapping\n",
    "print(\"Label to Index mapping:\")\n",
    "print(label_map)\n",
    "\n",
    "# Final DataFrame\n",
    "CategorMsg.drop(columns=['label'], inplace = True)\n",
    "CategorMsg.head(1)\n"
   ]
  },
  {
   "cell_type": "code",
   "execution_count": 356,
   "id": "c5348be3-100a-4a56-b4aa-1b55dffcfbf4",
   "metadata": {},
   "outputs": [],
   "source": [
    "x = CategorMsg['message']\n",
    "y = CategorMsg['label_index']\n",
    "y = y.astype(int).values\n",
    "x= x.values\n",
    "x_Total = chatbot_df['Message'].values"
   ]
  },
  {
   "cell_type": "code",
   "execution_count": 268,
   "id": "9f4a2a03-c40f-4aed-aa3d-f0bc6a697bc2",
   "metadata": {},
   "outputs": [
    {
     "name": "stderr",
     "output_type": "stream",
     "text": [
      "[nltk_data] Downloading package punkt to C:\\Users\\Acer\n",
      "[nltk_data]     Nitro\\AppData\\Roaming\\nltk_data...\n",
      "[nltk_data]   Package punkt is already up-to-date!\n"
     ]
    }
   ],
   "source": [
    "import nltk \n",
    "nltk.download('punkt')\n",
    "from nltk.tokenize import sent_tokenize\n"
   ]
  },
  {
   "cell_type": "markdown",
   "id": "9c2702de-4d35-45b2-a25d-07a476936754",
   "metadata": {},
   "source": [
    "\n",
    "\n",
    "#### NLTK library for NLP \n",
    "#### Segmentation\n",
    "#### Tokenizing\n",
    "#### Stop words\n",
    "#### Stemming \n",
    "#### Lemmatization\n",
    "#### Speech Tagging\n",
    "#### Named Entity Tagging\n",
    "#### Reference : https://www.youtube.com/watch?v=MpIagClRELI"
   ]
  },
  {
   "cell_type": "code",
   "execution_count": 274,
   "id": "2fcc2115-2dc6-46dc-aac4-d506a5d8ae0f",
   "metadata": {},
   "outputs": [],
   "source": [
    "#Segmentation\n",
    "seg_sentences = [sent_tokenize(sentence) for sentence in x]\n",
    "#seg_sentences"
   ]
  },
  {
   "cell_type": "code",
   "execution_count": 276,
   "id": "f09b063a-3dbe-4a40-8ca3-95eb146cede8",
   "metadata": {},
   "outputs": [],
   "source": [
    "import re\n",
    "\n",
    "clean_sentences = [re.sub(r\"[^a-zA-Z0-9]\", \" \", sentence)  \n",
    "                   for sublist in seg_sentences for sentence in sublist]\n",
    "#clean_sentences"
   ]
  },
  {
   "cell_type": "code",
   "execution_count": 278,
   "id": "01cfde85-2219-41f8-b7cd-1fc961c92588",
   "metadata": {},
   "outputs": [],
   "source": [
    "# Tokenizing\n",
    "from nltk.tokenize import word_tokenize\n"
   ]
  },
  {
   "cell_type": "code",
   "execution_count": 280,
   "id": "533a59a8-550f-494e-b171-4399554ed25a",
   "metadata": {},
   "outputs": [],
   "source": [
    "tokenized_words = [word_tokenize(sentence) for sentence in clean_sentences]\n",
    "#print (tokenized_words)"
   ]
  },
  {
   "cell_type": "code",
   "execution_count": 282,
   "id": "fe3131d3-5515-47fb-b6d9-68fa0b3aaa6e",
   "metadata": {},
   "outputs": [
    {
     "name": "stderr",
     "output_type": "stream",
     "text": [
      "[nltk_data] Downloading package stopwords to C:\\Users\\Acer\n",
      "[nltk_data]     Nitro\\AppData\\Roaming\\nltk_data...\n",
      "[nltk_data]   Package stopwords is already up-to-date!\n"
     ]
    }
   ],
   "source": [
    "#### Removal of Stop words\n",
    "nltk.download('stopwords')\n",
    "from nltk.corpus import stopwords"
   ]
  },
  {
   "cell_type": "code",
   "execution_count": 284,
   "id": "4cc00bdf-2245-4f1c-857d-535ef12f2cf6",
   "metadata": {},
   "outputs": [],
   "source": [
    "tokenized_words = [w for w in tokenized_words if w not in stopwords.words(\"english\")]\n",
    "#print (tokenized_words)"
   ]
  },
  {
   "cell_type": "code",
   "execution_count": null,
   "id": "19e41b68-136b-446a-846a-cedfe7fd55f1",
   "metadata": {},
   "outputs": [],
   "source": [
    "## THis before lemmatizatio  and steaming and only use 1 to train"
   ]
  },
  {
   "cell_type": "code",
   "execution_count": 288,
   "id": "9a6c5d8a-b482-454a-9a3d-23310075c35f",
   "metadata": {},
   "outputs": [],
   "source": [
    "from nltk import pos_tag"
   ]
  },
  {
   "cell_type": "code",
   "execution_count": 290,
   "id": "bf6c7d0e-7996-4cba-8313-c8b8ae4ea818",
   "metadata": {},
   "outputs": [],
   "source": [
    "pos_tagged = [pos_tag(sentence) for sentence in tokenized_words]"
   ]
  },
  {
   "cell_type": "code",
   "execution_count": 292,
   "id": "41bda5dc-2938-432f-96b3-4b7f2ea865cb",
   "metadata": {},
   "outputs": [],
   "source": [
    "def get_wordnet_pos(treebank_tag):\n",
    "    if treebank_tag.startswith('J'):  # Adjective\n",
    "        return wordnet.ADJ\n",
    "    elif treebank_tag.startswith('V'):  # Verb\n",
    "        return wordnet.VERB\n",
    "    elif treebank_tag.startswith('N'):  # Noun\n",
    "        return wordnet.NOUN\n",
    "    elif treebank_tag.startswith('R'):  # Adverb\n",
    "        return wordnet.ADV\n",
    "    else:\n",
    "        return wordnet.NOUN  # Default to noun"
   ]
  },
  {
   "cell_type": "code",
   "execution_count": 294,
   "id": "539a4667-0d95-44bd-81c3-35d5fd98b66d",
   "metadata": {},
   "outputs": [],
   "source": [
    "## Stemming \n",
    "from nltk.stem.porter import PorterStemmer\n",
    "stemmer = PorterStemmer()\n",
    "\n",
    "# Reduce words to their stems\n",
    "\n",
    "stemmed = [\n",
    "    [stemmer.stem(word, get_wordnet_pos(tag)) for word, tag in sentence]\n",
    "    for sentence in pos_tagged\n",
    "]\n",
    "#print (stemmed)"
   ]
  },
  {
   "cell_type": "code",
   "execution_count": 296,
   "id": "b88a6404-4588-45c0-a62c-d7c36163da76",
   "metadata": {},
   "outputs": [],
   "source": [
    "## Lemmatization\n",
    "from nltk.stem.wordnet import WordNetLemmatizer\n",
    "from nltk.corpus import wordnet\n",
    "\n",
    "##\n",
    "lemmatizer = WordNetLemmatizer()\n",
    "\n",
    "lemmatized = [\n",
    "    [lemmatizer.lemmatize(word, get_wordnet_pos(tag)) for word, tag in sentence]\n",
    "    for sentence in pos_tagged\n",
    "]\n",
    "#print(lemmatized)\n"
   ]
  },
  {
   "cell_type": "code",
   "execution_count": 298,
   "id": "e4f1bf89-b43e-4c07-8fff-e6c2e7f576b8",
   "metadata": {},
   "outputs": [
    {
     "name": "stderr",
     "output_type": "stream",
     "text": [
      "[nltk_data] Downloading package words to C:\\Users\\Acer\n",
      "[nltk_data]     Nitro\\AppData\\Roaming\\nltk_data...\n",
      "[nltk_data]   Package words is already up-to-date!\n"
     ]
    },
    {
     "data": {
      "text/plain": [
       "True"
      ]
     },
     "execution_count": 298,
     "metadata": {},
     "output_type": "execute_result"
    }
   ],
   "source": [
    "##Named entity recognition\n",
    "\n",
    "from nltk import ne_chunk\n",
    "nltk.download('words')"
   ]
  },
  {
   "cell_type": "code",
   "execution_count": null,
   "id": "0aeef8ee-11c1-4773-a3b7-1da7a4c3e977",
   "metadata": {},
   "outputs": [],
   "source": [
    "ner_tree = ne_chunk(pos_tag(word_tokenize(seg_sentences[0])))\n",
    "print(ner_tree)"
   ]
  },
  {
   "cell_type": "markdown",
   "id": "b78bd6a4-91d8-4604-8963-18822c05800f",
   "metadata": {},
   "source": [
    "## Spacy Tutorial \n",
    "https://www.youtube.com/watch?v=M7SWr5xObkA&t=2s Reference "
   ]
  },
  {
   "cell_type": "code",
   "execution_count": 5,
   "id": "116681f5-9f11-4f2f-89cd-287a7cbfd560",
   "metadata": {},
   "outputs": [
    {
     "name": "stdout",
     "output_type": "stream",
     "text": [
      "Collecting en-core-web-md==3.8.0\n",
      "  Downloading https://github.com/explosion/spacy-models/releases/download/en_core_web_md-3.8.0/en_core_web_md-3.8.0-py3-none-any.whl (33.5 MB)\n",
      "     ---------------------------------------- 0.0/33.5 MB ? eta -:--:--\n",
      "     ---------------------------------------- 0.0/33.5 MB ? eta -:--:--\n",
      "     --------------------------------------- 0.0/33.5 MB 217.9 kB/s eta 0:02:34\n",
      "     --------------------------------------- 0.0/33.5 MB 279.3 kB/s eta 0:02:00\n",
      "     --------------------------------------- 0.1/33.5 MB 262.6 kB/s eta 0:02:08\n",
      "     --------------------------------------- 0.1/33.5 MB 262.6 kB/s eta 0:02:08\n",
      "     --------------------------------------- 0.2/33.5 MB 696.3 kB/s eta 0:00:48\n",
      "      --------------------------------------- 0.5/33.5 MB 1.8 MB/s eta 0:00:19\n",
      "     - -------------------------------------- 1.2/33.5 MB 3.6 MB/s eta 0:00:09\n",
      "     --- ------------------------------------ 2.6/33.5 MB 6.5 MB/s eta 0:00:05\n",
      "     ----- ---------------------------------- 4.4/33.5 MB 10.1 MB/s eta 0:00:03\n",
      "     ------- -------------------------------- 6.4/33.5 MB 13.2 MB/s eta 0:00:03\n",
      "     ---------- ----------------------------- 8.6/33.5 MB 16.2 MB/s eta 0:00:02\n",
      "     ----------- --------------------------- 10.0/33.5 MB 17.3 MB/s eta 0:00:02\n",
      "     ------------- ------------------------- 11.2/33.5 MB 34.4 MB/s eta 0:00:01\n",
      "     --------------- ----------------------- 13.3/33.5 MB 38.5 MB/s eta 0:00:01\n",
      "     ----------------- --------------------- 15.3/33.5 MB 38.5 MB/s eta 0:00:01\n",
      "     -------------------- ------------------ 17.3/33.5 MB 38.5 MB/s eta 0:00:01\n",
      "     ---------------------- ---------------- 19.7/33.5 MB 40.9 MB/s eta 0:00:01\n",
      "     ------------------------ -------------- 21.1/33.5 MB 40.9 MB/s eta 0:00:01\n",
      "     --------------------------- ----------- 23.6/33.5 MB 43.7 MB/s eta 0:00:01\n",
      "     ------------------------------ -------- 26.0/33.5 MB 46.9 MB/s eta 0:00:01\n",
      "     -------------------------------- ------ 27.9/33.5 MB 46.7 MB/s eta 0:00:01\n",
      "     ----------------------------------- --- 30.3/33.5 MB 46.7 MB/s eta 0:00:01\n",
      "     ------------------------------------- - 32.2/33.5 MB 46.7 MB/s eta 0:00:01\n",
      "     --------------------------------------  33.5/33.5 MB 46.7 MB/s eta 0:00:01\n",
      "     --------------------------------------- 33.5/33.5 MB 38.4 MB/s eta 0:00:00\n",
      "Installing collected packages: en-core-web-md\n",
      "Successfully installed en-core-web-md-3.8.0\n",
      "\u001b[38;5;2m[+] Download and installation successful\u001b[0m\n",
      "You can now load the package via spacy.load('en_core_web_md')\n"
     ]
    }
   ],
   "source": [
    "!python -m spacy download en_core_web_md"
   ]
  },
  {
   "cell_type": "code",
   "execution_count": 300,
   "id": "72fbb531-119b-452a-b4d7-bf5a3fba7eec",
   "metadata": {},
   "outputs": [],
   "source": [
    "import spacy\n",
    "from sklearn import svm"
   ]
  },
  {
   "cell_type": "code",
   "execution_count": 302,
   "id": "3712d266-2c50-4f10-b327-4eb3540f844b",
   "metadata": {},
   "outputs": [],
   "source": [
    "nlp = spacy.load(\"en_core_web_md\")"
   ]
  },
  {
   "cell_type": "code",
   "execution_count": 304,
   "id": "068208b6-d1d3-44eb-805e-b0b59f40ea7d",
   "metadata": {},
   "outputs": [],
   "source": [
    "docs = [nlp(\" \".join(sentence)) for sentence in lemmatized]\n",
    "filtered_docs = [doc for doc in docs if doc.vector is not None and doc.vector.any()]\n",
    "train_x_word_vectors = [doc.vector for doc in filtered_docs]\n"
   ]
  },
  {
   "cell_type": "code",
   "execution_count": null,
   "id": "45551899-aa5c-488b-a8b0-2bee531edda7",
   "metadata": {},
   "outputs": [],
   "source": [
    "## Only with x_Total , for when all the data is procesed trouh NLTK NLP \n",
    "messages = [doc.text for doc in filtered_docs]\n",
    "chatbot_messages = pd.DataFrame(messages, columns=[\"message\"])\n",
    "chatbot_messages[\"label\"] = \"\"\n",
    "chatbot_messages.to_csv(\"messages_for_labeling.csv\", index=False)"
   ]
  },
  {
   "cell_type": "code",
   "execution_count": 306,
   "id": "f1eaae9a-b2b0-43cd-b2b8-536bfa35a124",
   "metadata": {},
   "outputs": [
    {
     "data": {
      "text/html": [
       "<style>#sk-container-id-2 {\n",
       "  /* Definition of color scheme common for light and dark mode */\n",
       "  --sklearn-color-text: black;\n",
       "  --sklearn-color-line: gray;\n",
       "  /* Definition of color scheme for unfitted estimators */\n",
       "  --sklearn-color-unfitted-level-0: #fff5e6;\n",
       "  --sklearn-color-unfitted-level-1: #f6e4d2;\n",
       "  --sklearn-color-unfitted-level-2: #ffe0b3;\n",
       "  --sklearn-color-unfitted-level-3: chocolate;\n",
       "  /* Definition of color scheme for fitted estimators */\n",
       "  --sklearn-color-fitted-level-0: #f0f8ff;\n",
       "  --sklearn-color-fitted-level-1: #d4ebff;\n",
       "  --sklearn-color-fitted-level-2: #b3dbfd;\n",
       "  --sklearn-color-fitted-level-3: cornflowerblue;\n",
       "\n",
       "  /* Specific color for light theme */\n",
       "  --sklearn-color-text-on-default-background: var(--sg-text-color, var(--theme-code-foreground, var(--jp-content-font-color1, black)));\n",
       "  --sklearn-color-background: var(--sg-background-color, var(--theme-background, var(--jp-layout-color0, white)));\n",
       "  --sklearn-color-border-box: var(--sg-text-color, var(--theme-code-foreground, var(--jp-content-font-color1, black)));\n",
       "  --sklearn-color-icon: #696969;\n",
       "\n",
       "  @media (prefers-color-scheme: dark) {\n",
       "    /* Redefinition of color scheme for dark theme */\n",
       "    --sklearn-color-text-on-default-background: var(--sg-text-color, var(--theme-code-foreground, var(--jp-content-font-color1, white)));\n",
       "    --sklearn-color-background: var(--sg-background-color, var(--theme-background, var(--jp-layout-color0, #111)));\n",
       "    --sklearn-color-border-box: var(--sg-text-color, var(--theme-code-foreground, var(--jp-content-font-color1, white)));\n",
       "    --sklearn-color-icon: #878787;\n",
       "  }\n",
       "}\n",
       "\n",
       "#sk-container-id-2 {\n",
       "  color: var(--sklearn-color-text);\n",
       "}\n",
       "\n",
       "#sk-container-id-2 pre {\n",
       "  padding: 0;\n",
       "}\n",
       "\n",
       "#sk-container-id-2 input.sk-hidden--visually {\n",
       "  border: 0;\n",
       "  clip: rect(1px 1px 1px 1px);\n",
       "  clip: rect(1px, 1px, 1px, 1px);\n",
       "  height: 1px;\n",
       "  margin: -1px;\n",
       "  overflow: hidden;\n",
       "  padding: 0;\n",
       "  position: absolute;\n",
       "  width: 1px;\n",
       "}\n",
       "\n",
       "#sk-container-id-2 div.sk-dashed-wrapped {\n",
       "  border: 1px dashed var(--sklearn-color-line);\n",
       "  margin: 0 0.4em 0.5em 0.4em;\n",
       "  box-sizing: border-box;\n",
       "  padding-bottom: 0.4em;\n",
       "  background-color: var(--sklearn-color-background);\n",
       "}\n",
       "\n",
       "#sk-container-id-2 div.sk-container {\n",
       "  /* jupyter's `normalize.less` sets `[hidden] { display: none; }`\n",
       "     but bootstrap.min.css set `[hidden] { display: none !important; }`\n",
       "     so we also need the `!important` here to be able to override the\n",
       "     default hidden behavior on the sphinx rendered scikit-learn.org.\n",
       "     See: https://github.com/scikit-learn/scikit-learn/issues/21755 */\n",
       "  display: inline-block !important;\n",
       "  position: relative;\n",
       "}\n",
       "\n",
       "#sk-container-id-2 div.sk-text-repr-fallback {\n",
       "  display: none;\n",
       "}\n",
       "\n",
       "div.sk-parallel-item,\n",
       "div.sk-serial,\n",
       "div.sk-item {\n",
       "  /* draw centered vertical line to link estimators */\n",
       "  background-image: linear-gradient(var(--sklearn-color-text-on-default-background), var(--sklearn-color-text-on-default-background));\n",
       "  background-size: 2px 100%;\n",
       "  background-repeat: no-repeat;\n",
       "  background-position: center center;\n",
       "}\n",
       "\n",
       "/* Parallel-specific style estimator block */\n",
       "\n",
       "#sk-container-id-2 div.sk-parallel-item::after {\n",
       "  content: \"\";\n",
       "  width: 100%;\n",
       "  border-bottom: 2px solid var(--sklearn-color-text-on-default-background);\n",
       "  flex-grow: 1;\n",
       "}\n",
       "\n",
       "#sk-container-id-2 div.sk-parallel {\n",
       "  display: flex;\n",
       "  align-items: stretch;\n",
       "  justify-content: center;\n",
       "  background-color: var(--sklearn-color-background);\n",
       "  position: relative;\n",
       "}\n",
       "\n",
       "#sk-container-id-2 div.sk-parallel-item {\n",
       "  display: flex;\n",
       "  flex-direction: column;\n",
       "}\n",
       "\n",
       "#sk-container-id-2 div.sk-parallel-item:first-child::after {\n",
       "  align-self: flex-end;\n",
       "  width: 50%;\n",
       "}\n",
       "\n",
       "#sk-container-id-2 div.sk-parallel-item:last-child::after {\n",
       "  align-self: flex-start;\n",
       "  width: 50%;\n",
       "}\n",
       "\n",
       "#sk-container-id-2 div.sk-parallel-item:only-child::after {\n",
       "  width: 0;\n",
       "}\n",
       "\n",
       "/* Serial-specific style estimator block */\n",
       "\n",
       "#sk-container-id-2 div.sk-serial {\n",
       "  display: flex;\n",
       "  flex-direction: column;\n",
       "  align-items: center;\n",
       "  background-color: var(--sklearn-color-background);\n",
       "  padding-right: 1em;\n",
       "  padding-left: 1em;\n",
       "}\n",
       "\n",
       "\n",
       "/* Toggleable style: style used for estimator/Pipeline/ColumnTransformer box that is\n",
       "clickable and can be expanded/collapsed.\n",
       "- Pipeline and ColumnTransformer use this feature and define the default style\n",
       "- Estimators will overwrite some part of the style using the `sk-estimator` class\n",
       "*/\n",
       "\n",
       "/* Pipeline and ColumnTransformer style (default) */\n",
       "\n",
       "#sk-container-id-2 div.sk-toggleable {\n",
       "  /* Default theme specific background. It is overwritten whether we have a\n",
       "  specific estimator or a Pipeline/ColumnTransformer */\n",
       "  background-color: var(--sklearn-color-background);\n",
       "}\n",
       "\n",
       "/* Toggleable label */\n",
       "#sk-container-id-2 label.sk-toggleable__label {\n",
       "  cursor: pointer;\n",
       "  display: block;\n",
       "  width: 100%;\n",
       "  margin-bottom: 0;\n",
       "  padding: 0.5em;\n",
       "  box-sizing: border-box;\n",
       "  text-align: center;\n",
       "}\n",
       "\n",
       "#sk-container-id-2 label.sk-toggleable__label-arrow:before {\n",
       "  /* Arrow on the left of the label */\n",
       "  content: \"▸\";\n",
       "  float: left;\n",
       "  margin-right: 0.25em;\n",
       "  color: var(--sklearn-color-icon);\n",
       "}\n",
       "\n",
       "#sk-container-id-2 label.sk-toggleable__label-arrow:hover:before {\n",
       "  color: var(--sklearn-color-text);\n",
       "}\n",
       "\n",
       "/* Toggleable content - dropdown */\n",
       "\n",
       "#sk-container-id-2 div.sk-toggleable__content {\n",
       "  max-height: 0;\n",
       "  max-width: 0;\n",
       "  overflow: hidden;\n",
       "  text-align: left;\n",
       "  /* unfitted */\n",
       "  background-color: var(--sklearn-color-unfitted-level-0);\n",
       "}\n",
       "\n",
       "#sk-container-id-2 div.sk-toggleable__content.fitted {\n",
       "  /* fitted */\n",
       "  background-color: var(--sklearn-color-fitted-level-0);\n",
       "}\n",
       "\n",
       "#sk-container-id-2 div.sk-toggleable__content pre {\n",
       "  margin: 0.2em;\n",
       "  border-radius: 0.25em;\n",
       "  color: var(--sklearn-color-text);\n",
       "  /* unfitted */\n",
       "  background-color: var(--sklearn-color-unfitted-level-0);\n",
       "}\n",
       "\n",
       "#sk-container-id-2 div.sk-toggleable__content.fitted pre {\n",
       "  /* unfitted */\n",
       "  background-color: var(--sklearn-color-fitted-level-0);\n",
       "}\n",
       "\n",
       "#sk-container-id-2 input.sk-toggleable__control:checked~div.sk-toggleable__content {\n",
       "  /* Expand drop-down */\n",
       "  max-height: 200px;\n",
       "  max-width: 100%;\n",
       "  overflow: auto;\n",
       "}\n",
       "\n",
       "#sk-container-id-2 input.sk-toggleable__control:checked~label.sk-toggleable__label-arrow:before {\n",
       "  content: \"▾\";\n",
       "}\n",
       "\n",
       "/* Pipeline/ColumnTransformer-specific style */\n",
       "\n",
       "#sk-container-id-2 div.sk-label input.sk-toggleable__control:checked~label.sk-toggleable__label {\n",
       "  color: var(--sklearn-color-text);\n",
       "  background-color: var(--sklearn-color-unfitted-level-2);\n",
       "}\n",
       "\n",
       "#sk-container-id-2 div.sk-label.fitted input.sk-toggleable__control:checked~label.sk-toggleable__label {\n",
       "  background-color: var(--sklearn-color-fitted-level-2);\n",
       "}\n",
       "\n",
       "/* Estimator-specific style */\n",
       "\n",
       "/* Colorize estimator box */\n",
       "#sk-container-id-2 div.sk-estimator input.sk-toggleable__control:checked~label.sk-toggleable__label {\n",
       "  /* unfitted */\n",
       "  background-color: var(--sklearn-color-unfitted-level-2);\n",
       "}\n",
       "\n",
       "#sk-container-id-2 div.sk-estimator.fitted input.sk-toggleable__control:checked~label.sk-toggleable__label {\n",
       "  /* fitted */\n",
       "  background-color: var(--sklearn-color-fitted-level-2);\n",
       "}\n",
       "\n",
       "#sk-container-id-2 div.sk-label label.sk-toggleable__label,\n",
       "#sk-container-id-2 div.sk-label label {\n",
       "  /* The background is the default theme color */\n",
       "  color: var(--sklearn-color-text-on-default-background);\n",
       "}\n",
       "\n",
       "/* On hover, darken the color of the background */\n",
       "#sk-container-id-2 div.sk-label:hover label.sk-toggleable__label {\n",
       "  color: var(--sklearn-color-text);\n",
       "  background-color: var(--sklearn-color-unfitted-level-2);\n",
       "}\n",
       "\n",
       "/* Label box, darken color on hover, fitted */\n",
       "#sk-container-id-2 div.sk-label.fitted:hover label.sk-toggleable__label.fitted {\n",
       "  color: var(--sklearn-color-text);\n",
       "  background-color: var(--sklearn-color-fitted-level-2);\n",
       "}\n",
       "\n",
       "/* Estimator label */\n",
       "\n",
       "#sk-container-id-2 div.sk-label label {\n",
       "  font-family: monospace;\n",
       "  font-weight: bold;\n",
       "  display: inline-block;\n",
       "  line-height: 1.2em;\n",
       "}\n",
       "\n",
       "#sk-container-id-2 div.sk-label-container {\n",
       "  text-align: center;\n",
       "}\n",
       "\n",
       "/* Estimator-specific */\n",
       "#sk-container-id-2 div.sk-estimator {\n",
       "  font-family: monospace;\n",
       "  border: 1px dotted var(--sklearn-color-border-box);\n",
       "  border-radius: 0.25em;\n",
       "  box-sizing: border-box;\n",
       "  margin-bottom: 0.5em;\n",
       "  /* unfitted */\n",
       "  background-color: var(--sklearn-color-unfitted-level-0);\n",
       "}\n",
       "\n",
       "#sk-container-id-2 div.sk-estimator.fitted {\n",
       "  /* fitted */\n",
       "  background-color: var(--sklearn-color-fitted-level-0);\n",
       "}\n",
       "\n",
       "/* on hover */\n",
       "#sk-container-id-2 div.sk-estimator:hover {\n",
       "  /* unfitted */\n",
       "  background-color: var(--sklearn-color-unfitted-level-2);\n",
       "}\n",
       "\n",
       "#sk-container-id-2 div.sk-estimator.fitted:hover {\n",
       "  /* fitted */\n",
       "  background-color: var(--sklearn-color-fitted-level-2);\n",
       "}\n",
       "\n",
       "/* Specification for estimator info (e.g. \"i\" and \"?\") */\n",
       "\n",
       "/* Common style for \"i\" and \"?\" */\n",
       "\n",
       ".sk-estimator-doc-link,\n",
       "a:link.sk-estimator-doc-link,\n",
       "a:visited.sk-estimator-doc-link {\n",
       "  float: right;\n",
       "  font-size: smaller;\n",
       "  line-height: 1em;\n",
       "  font-family: monospace;\n",
       "  background-color: var(--sklearn-color-background);\n",
       "  border-radius: 1em;\n",
       "  height: 1em;\n",
       "  width: 1em;\n",
       "  text-decoration: none !important;\n",
       "  margin-left: 1ex;\n",
       "  /* unfitted */\n",
       "  border: var(--sklearn-color-unfitted-level-1) 1pt solid;\n",
       "  color: var(--sklearn-color-unfitted-level-1);\n",
       "}\n",
       "\n",
       ".sk-estimator-doc-link.fitted,\n",
       "a:link.sk-estimator-doc-link.fitted,\n",
       "a:visited.sk-estimator-doc-link.fitted {\n",
       "  /* fitted */\n",
       "  border: var(--sklearn-color-fitted-level-1) 1pt solid;\n",
       "  color: var(--sklearn-color-fitted-level-1);\n",
       "}\n",
       "\n",
       "/* On hover */\n",
       "div.sk-estimator:hover .sk-estimator-doc-link:hover,\n",
       ".sk-estimator-doc-link:hover,\n",
       "div.sk-label-container:hover .sk-estimator-doc-link:hover,\n",
       ".sk-estimator-doc-link:hover {\n",
       "  /* unfitted */\n",
       "  background-color: var(--sklearn-color-unfitted-level-3);\n",
       "  color: var(--sklearn-color-background);\n",
       "  text-decoration: none;\n",
       "}\n",
       "\n",
       "div.sk-estimator.fitted:hover .sk-estimator-doc-link.fitted:hover,\n",
       ".sk-estimator-doc-link.fitted:hover,\n",
       "div.sk-label-container:hover .sk-estimator-doc-link.fitted:hover,\n",
       ".sk-estimator-doc-link.fitted:hover {\n",
       "  /* fitted */\n",
       "  background-color: var(--sklearn-color-fitted-level-3);\n",
       "  color: var(--sklearn-color-background);\n",
       "  text-decoration: none;\n",
       "}\n",
       "\n",
       "/* Span, style for the box shown on hovering the info icon */\n",
       ".sk-estimator-doc-link span {\n",
       "  display: none;\n",
       "  z-index: 9999;\n",
       "  position: relative;\n",
       "  font-weight: normal;\n",
       "  right: .2ex;\n",
       "  padding: .5ex;\n",
       "  margin: .5ex;\n",
       "  width: min-content;\n",
       "  min-width: 20ex;\n",
       "  max-width: 50ex;\n",
       "  color: var(--sklearn-color-text);\n",
       "  box-shadow: 2pt 2pt 4pt #999;\n",
       "  /* unfitted */\n",
       "  background: var(--sklearn-color-unfitted-level-0);\n",
       "  border: .5pt solid var(--sklearn-color-unfitted-level-3);\n",
       "}\n",
       "\n",
       ".sk-estimator-doc-link.fitted span {\n",
       "  /* fitted */\n",
       "  background: var(--sklearn-color-fitted-level-0);\n",
       "  border: var(--sklearn-color-fitted-level-3);\n",
       "}\n",
       "\n",
       ".sk-estimator-doc-link:hover span {\n",
       "  display: block;\n",
       "}\n",
       "\n",
       "/* \"?\"-specific style due to the `<a>` HTML tag */\n",
       "\n",
       "#sk-container-id-2 a.estimator_doc_link {\n",
       "  float: right;\n",
       "  font-size: 1rem;\n",
       "  line-height: 1em;\n",
       "  font-family: monospace;\n",
       "  background-color: var(--sklearn-color-background);\n",
       "  border-radius: 1rem;\n",
       "  height: 1rem;\n",
       "  width: 1rem;\n",
       "  text-decoration: none;\n",
       "  /* unfitted */\n",
       "  color: var(--sklearn-color-unfitted-level-1);\n",
       "  border: var(--sklearn-color-unfitted-level-1) 1pt solid;\n",
       "}\n",
       "\n",
       "#sk-container-id-2 a.estimator_doc_link.fitted {\n",
       "  /* fitted */\n",
       "  border: var(--sklearn-color-fitted-level-1) 1pt solid;\n",
       "  color: var(--sklearn-color-fitted-level-1);\n",
       "}\n",
       "\n",
       "/* On hover */\n",
       "#sk-container-id-2 a.estimator_doc_link:hover {\n",
       "  /* unfitted */\n",
       "  background-color: var(--sklearn-color-unfitted-level-3);\n",
       "  color: var(--sklearn-color-background);\n",
       "  text-decoration: none;\n",
       "}\n",
       "\n",
       "#sk-container-id-2 a.estimator_doc_link.fitted:hover {\n",
       "  /* fitted */\n",
       "  background-color: var(--sklearn-color-fitted-level-3);\n",
       "}\n",
       "</style><div id=\"sk-container-id-2\" class=\"sk-top-container\"><div class=\"sk-text-repr-fallback\"><pre>SVC(kernel=&#x27;linear&#x27;)</pre><b>In a Jupyter environment, please rerun this cell to show the HTML representation or trust the notebook. <br />On GitHub, the HTML representation is unable to render, please try loading this page with nbviewer.org.</b></div><div class=\"sk-container\" hidden><div class=\"sk-item\"><div class=\"sk-estimator fitted sk-toggleable\"><input class=\"sk-toggleable__control sk-hidden--visually\" id=\"sk-estimator-id-2\" type=\"checkbox\" checked><label for=\"sk-estimator-id-2\" class=\"sk-toggleable__label fitted sk-toggleable__label-arrow fitted\">&nbsp;&nbsp;SVC<a class=\"sk-estimator-doc-link fitted\" rel=\"noreferrer\" target=\"_blank\" href=\"https://scikit-learn.org/1.4/modules/generated/sklearn.svm.SVC.html\">?<span>Documentation for SVC</span></a><span class=\"sk-estimator-doc-link fitted\">i<span>Fitted</span></span></label><div class=\"sk-toggleable__content fitted\"><pre>SVC(kernel=&#x27;linear&#x27;)</pre></div> </div></div></div></div>"
      ],
      "text/plain": [
       "SVC(kernel='linear')"
      ]
     },
     "execution_count": 306,
     "metadata": {},
     "output_type": "execute_result"
    }
   ],
   "source": [
    "clf_svm_wordvector = svm.SVC(kernel='linear')\n",
    "clf_svm_wordvector.fit(train_x_word_vectors, y)"
   ]
  },
  {
   "cell_type": "markdown",
   "id": "732e8ab5-ab29-4f43-a39a-a6f8a83e17e8",
   "metadata": {},
   "source": [
    "0 'GREET'\n",
    "1 'BOOK' \n",
    "2 'CONF' \n",
    "3 'THANK' \n",
    "4 'BI' \n",
    "5'INFO'\n",
    "6 'CONTACT'\n",
    "7 'BIB' \n",
    "8 'GRB' \n",
    "9 'GOODREV'\n",
    "10 'COMPL']"
   ]
  },
  {
   "cell_type": "code",
   "execution_count": 308,
   "id": "a1098856-7c1a-45d7-9a52-69791a8a5137",
   "metadata": {},
   "outputs": [
    {
     "data": {
      "text/plain": [
       "array([10])"
      ]
     },
     "execution_count": 308,
     "metadata": {},
     "output_type": "execute_result"
    }
   ],
   "source": [
    "test_x = ['Bad experience']\n",
    "test_docs = [nlp(text) for text in test_x]\n",
    "test_x_word_vectors = [x.vector for x in test_docs]\n",
    "\n",
    "clf_svm_wordvector.predict(test_x_word_vectors)"
   ]
  },
  {
   "cell_type": "code",
   "execution_count": 310,
   "id": "d341b848-1706-41c0-9c19-6b6b3f3caa5b",
   "metadata": {},
   "outputs": [
    {
     "data": {
      "text/plain": [
       "array([5])"
      ]
     },
     "execution_count": 310,
     "metadata": {},
     "output_type": "execute_result"
    }
   ],
   "source": [
    "test_x = ['I hated my food, It was so bad']\n",
    "test_docs = [nlp(text) for text in test_x]\n",
    "test_x_word_vectors = [x.vector for x in test_docs]\n",
    "\n",
    "clf_svm_wordvector.predict(test_x_word_vectors)"
   ]
  },
  {
   "cell_type": "code",
   "execution_count": 312,
   "id": "6be466cb-c488-4db9-906d-bffc444a312d",
   "metadata": {},
   "outputs": [
    {
     "data": {
      "text/plain": [
       "array([2])"
      ]
     },
     "execution_count": 312,
     "metadata": {},
     "output_type": "execute_result"
    }
   ],
   "source": [
    "test_x = ['Im having a party on the second of march, you guys have availability?']\n",
    "test_docs = [nlp(text) for text in test_x]\n",
    "test_x_word_vectors = [x.vector for x in test_docs]\n",
    "\n",
    "clf_svm_wordvector.predict(test_x_word_vectors)"
   ]
  },
  {
   "cell_type": "code",
   "execution_count": 320,
   "id": "4ba648c9-0b22-4603-a6fd-b44346a879b0",
   "metadata": {},
   "outputs": [
    {
     "data": {
      "text/plain": [
       "array([4])"
      ]
     },
     "execution_count": 320,
     "metadata": {},
     "output_type": "execute_result"
    }
   ],
   "source": [
    "test_x = [' vegan']\n",
    "test_docs = [nlp(text) for text in test_x]\n",
    "test_x_word_vectors = [x.vector for x in test_docs]\n",
    "\n",
    "clf_svm_wordvector.predict(test_x_word_vectors)"
   ]
  },
  {
   "cell_type": "markdown",
   "id": "7ffa1b54-c9c1-4321-8d9a-25d4c85e2ced",
   "metadata": {},
   "source": [
    "### Regex\n",
    "Posible use for encountering EMAILS and removing them\n",
    "Encountering Phone numbers \n",
    "Hard encounting coding for the chatbo\n",
    "-Branch\n",
    "-Booking possibilities(Modify, Cancel, Make)\n",
    "                      "
   ]
  },
  {
   "cell_type": "code",
   "execution_count": null,
   "id": "f7ba849f-bea5-42f9-a575-0ccf26818899",
   "metadata": {},
   "outputs": [],
   "source": []
  },
  {
   "cell_type": "code",
   "execution_count": null,
   "id": "a2c4b4fb-4a37-4bef-a953-38d009c83872",
   "metadata": {},
   "outputs": [],
   "source": []
  },
  {
   "cell_type": "code",
   "execution_count": null,
   "id": "6a6cd0ce-2d66-4c09-9180-916b8622a4de",
   "metadata": {},
   "outputs": [],
   "source": []
  },
  {
   "cell_type": "code",
   "execution_count": null,
   "id": "aed0e461-6b3f-401d-a2e0-dd64f3d2f273",
   "metadata": {},
   "outputs": [],
   "source": []
  },
  {
   "cell_type": "code",
   "execution_count": null,
   "id": "513f0c57-41c4-4e83-846c-1ee8199242c2",
   "metadata": {},
   "outputs": [],
   "source": []
  },
  {
   "cell_type": "code",
   "execution_count": null,
   "id": "c033eafb-4198-470c-891d-1db706f8ffec",
   "metadata": {},
   "outputs": [],
   "source": []
  },
  {
   "cell_type": "code",
   "execution_count": null,
   "id": "22dd91b8-e080-46bd-86ef-f60c9fea83e5",
   "metadata": {},
   "outputs": [],
   "source": []
  },
  {
   "cell_type": "code",
   "execution_count": null,
   "id": "990a5c45-25bd-4f2e-8808-ada6d989a373",
   "metadata": {},
   "outputs": [],
   "source": []
  },
  {
   "cell_type": "code",
   "execution_count": null,
   "id": "be0cf3b3-9d0d-440e-bd21-771839b7cbf8",
   "metadata": {},
   "outputs": [],
   "source": []
  },
  {
   "cell_type": "code",
   "execution_count": null,
   "id": "1e37aa6a-3a65-4698-a724-386392da48bb",
   "metadata": {},
   "outputs": [],
   "source": [
    "import csv\n",
    "import re\n",
    "\n",
    "def parse_chatbot_entries(file_path, output_csv):\n",
    "    data = [] ##All data\n",
    "    entry = {} # one line\n",
    "    message_lines = [] # message\n",
    "    \n",
    "    expected_fields = [\"Name\", \"Email\", \"Location\",\"Branch\" ,\"Party Size\", \"Date\", \"Time\", \"Message\"]\n",
    "    \n",
    "    with open(file_path, 'r', encoding='utf-8') as file:\n",
    "        lines = file.readlines()\n",
    "        \n",
    "        for i, line in enumerate(lines):\n",
    "            line = line.strip()\n",
    "            ## Loop for start and finish an entry \n",
    "            if line.startswith(\"Name:\"):\n",
    "                if entry and \"Name\" in entry:  # Save only if an entry was started\n",
    "                    data.append(entry)\n",
    "                entry = {field: \"\" for field in expected_fields}  #  only expected fields \n",
    "                entry[\"Name\"] = line.replace(\"Name:\", \"\").strip() #remove the column from the data\n",
    "            elif line.startswith(\"Email:\"):\n",
    "                entry[\"Email\"] = line.replace(\"Email:\", \"\").strip()\n",
    "            elif line.startswith(\"Location:\"):\n",
    "                entry[\"Location\"] = line.replace(\"Location:\", \"\").strip()\n",
    "            elif line.startswith(\"Branch:\"):\n",
    "                entry[\"Branch\"] = line.replace(\"Branch:\", \"\").strip()    \n",
    "            elif line.startswith(\"Party Size:\"):\n",
    "                entry[\"Party Size\"] = line.replace(\"Party Size:\", \"\").strip()\n",
    "            elif line.startswith(\"Date:\"):\n",
    "                entry[\"Date\"] = line.replace(\"Date:\", \"\").strip()\n",
    "            elif line.startswith(\"Time:\"):\n",
    "                entry[\"Time\"] = line.replace(\"Time:\", \"\").strip()\n",
    "                data.append(entry)  # Save entry as all fields are processed\n",
    "                entry = {} # reset entry As time is always the last\n",
    "            elif line.startswith(\"Message:\"):        \n",
    "                message_lines = [line.replace(\"Message:\", \"\").strip()]\n",
    "            elif line == \"on\":\n",
    "                continue  # Ignore \"on\" \n",
    "            elif line == \"---\":  ## join the message when find ---\n",
    "                if message_lines: \n",
    "                    entry[\"Message\"] = \" \".join(message_lines)\n",
    "                message_lines = []  # Reset message lines\n",
    "            else:\n",
    "                if message_lines is not None: ## if not message apend \"\" the line with nothing\n",
    "                    message_lines.append(line)\n",
    "    \n",
    "    if entry and \"Name\" in entry:  # Save last entry in data \n",
    "        data.append(entry)\n",
    "    \n",
    "    # Writing to CSV\n",
    "    with open(output_csv, 'w', newline='', encoding='utf-8') as csvfile:\n",
    "        writer = csv.DictWriter(csvfile, fieldnames=expected_fields)\n",
    "        writer.writeheader()\n",
    "        writer.writerows(data)\n",
    "    \n",
    "    print(f\"CSV file '{output_csv}' successfully created!\")\n",
    "\n",
    "\n",
    "parse_chatbot_entries('mailsinfo-chatbot.txt', 'chatbot_data.csv')\n"
   ]
  },
  {
   "cell_type": "code",
   "execution_count": null,
   "id": "903763dc-9350-4728-b8b6-db8bb8b63c00",
   "metadata": {},
   "outputs": [],
   "source": [
    "### ETC \n",
    "\n",
    "input_file = 'restaddon.txt'\n",
    "output_file = 'restadded.txt'\n",
    "with open(input_file, 'r', encoding='utf-8') as f:\n",
    "    lines = f.readlines()\n",
    "\n",
    "modified_lines = []\n",
    "for i in range(len(lines)):\n",
    "    modified_lines.append(lines[i])\n",
    "    if lines[i].startswith('---') and i + 1 < len(lines):\n",
    "        modified_lines.append('on\\n' + lines[i + 1])\n",
    "        i += 1\n",
    "\n",
    "with open(output_file, 'w', encoding='utf-8') as f:\n",
    "    f.writelines(modified_lines)\n",
    "\n",
    "print(f\"Modifications saved to {output_file}\")\n"
   ]
  }
 ],
 "metadata": {
  "kernelspec": {
   "display_name": "Python 3 (ipykernel)",
   "language": "python",
   "name": "python3"
  },
  "language_info": {
   "codemirror_mode": {
    "name": "ipython",
    "version": 3
   },
   "file_extension": ".py",
   "mimetype": "text/x-python",
   "name": "python",
   "nbconvert_exporter": "python",
   "pygments_lexer": "ipython3",
   "version": "3.12.4"
  }
 },
 "nbformat": 4,
 "nbformat_minor": 5
}
