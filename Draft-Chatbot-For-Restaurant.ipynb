{
 "cells": [
  {
   "cell_type": "code",
   "execution_count": 31,
   "id": "c80a3353-6fb0-45f8-827f-b2b381d0bcb0",
   "metadata": {},
   "outputs": [
    {
     "name": "stdout",
     "output_type": "stream",
     "text": [
      "CSV file 'chatbot_data.csv' successfully created!\n"
     ]
    }
   ],
   "source": [
    "import csv\n",
    "import re\n",
    "\n",
    "def parse_chatbot_entries(file_path, output_csv):\n",
    "    data = [] ##All data\n",
    "    entry = {} # one line\n",
    "    message_lines = [] # message\n",
    "    \n",
    "    expected_fields = [\"Name\", \"Email\", \"Location\",\"Branch\" ,\"Party Size\", \"Date\", \"Time\", \"Message\"]\n",
    "    \n",
    "    with open(file_path, 'r', encoding='utf-8') as file:\n",
    "        lines = file.readlines()\n",
    "        \n",
    "        for i, line in enumerate(lines):\n",
    "            line = line.strip()\n",
    "            ## Loop for start and finish an entry \n",
    "            if line.startswith(\"Name:\"):\n",
    "                if entry and \"Name\" in entry:  # Save only if an entry was started\n",
    "                    data.append(entry)\n",
    "                entry = {field: \"\" for field in expected_fields}  #  only expected fields \n",
    "                entry[\"Name\"] = line.replace(\"Name:\", \"\").strip() #remove the column from the data\n",
    "            elif line.startswith(\"Email:\"):\n",
    "                entry[\"Email\"] = line.replace(\"Email:\", \"\").strip()\n",
    "            elif line.startswith(\"Location:\"):\n",
    "                entry[\"Location\"] = line.replace(\"Location:\", \"\").strip()\n",
    "            elif line.startswith(\"Branch:\"):\n",
    "                entry[\"Branch\"] = line.replace(\"Branch:\", \"\").strip()    \n",
    "            elif line.startswith(\"Party Size:\"):\n",
    "                entry[\"Party Size\"] = line.replace(\"Party Size:\", \"\").strip()\n",
    "            elif line.startswith(\"Date:\"):\n",
    "                entry[\"Date\"] = line.replace(\"Date:\", \"\").strip()\n",
    "            elif line.startswith(\"Time:\"):\n",
    "                entry[\"Time\"] = line.replace(\"Time:\", \"\").strip()\n",
    "                data.append(entry)  # Save entry as all fields are processed\n",
    "                entry = {} # reset entry As time is always the last\n",
    "            elif line.startswith(\"Message:\"):        \n",
    "                message_lines = [line.replace(\"Message:\", \"\").strip()]\n",
    "            elif line == \"on\":\n",
    "                continue  # Ignore \"on\" \n",
    "            elif line == \"---\":  ## join the message when find ---\n",
    "                if message_lines: \n",
    "                    entry[\"Message\"] = \" \".join(message_lines)\n",
    "                message_lines = []  # Reset message lines\n",
    "            else:\n",
    "                if message_lines is not None: ## if not message apend \"\" the line with nothing\n",
    "                    message_lines.append(line)\n",
    "    \n",
    "    if entry and \"Name\" in entry:  # Save last entry in data \n",
    "        data.append(entry)\n",
    "    \n",
    "    # Writing to CSV\n",
    "    with open(output_csv, 'w', newline='', encoding='utf-8') as csvfile:\n",
    "        writer = csv.DictWriter(csvfile, fieldnames=expected_fields)\n",
    "        writer.writeheader()\n",
    "        writer.writerows(data)\n",
    "    \n",
    "    print(f\"CSV file '{output_csv}' successfully created!\")\n",
    "\n",
    "# Example usage:\n",
    "\n",
    "parse_chatbot_entries('mailsinfo-chatbot.txt', 'chatbot_data.csv')\n"
   ]
  },
  {
   "cell_type": "code",
   "execution_count": 19,
   "id": "c7a30441-88df-4893-a3c9-f598ed1b0c65",
   "metadata": {},
   "outputs": [],
   "source": [
    "import numpy as np\n",
    "import pandas as pd\n",
    "import matplotlib.pyplot as plt\n",
    "import seaborn as sns"
   ]
  },
  {
   "cell_type": "code",
   "execution_count": 129,
   "id": "2c77a626-97de-4f71-ba5a-904a1482e182",
   "metadata": {},
   "outputs": [],
   "source": [
    "chatbot_df = pd.read_csv('chatbot_data.csv')\n"
   ]
  },
  {
   "cell_type": "code",
   "execution_count": 131,
   "id": "5ad1adbb-e02c-4e28-9608-cfec7fb5d900",
   "metadata": {},
   "outputs": [],
   "source": [
    "\n",
    "# Remove \"Woodfire and Wings\" \n",
    "chatbot_df[\"Branch\"] = chatbot_df[\"Branch\"].str.replace(\"Woodfire and Wings\", \"\", regex=False).str.strip()\n",
    "\n",
    "# Merge \"Branch\" into \"Location\" if \"Location\" \n",
    "chatbot_df[\"Location\"] = chatbot_df[\"Location\"].fillna(chatbot_df[\"Branch\"])\n",
    "\n",
    "# Drop  \"Branch\" \n",
    "chatbot_df = chatbot_df.drop(columns=[\"Branch\"])\n",
    "\n",
    "\n",
    "\n"
   ]
  },
  {
   "cell_type": "code",
   "execution_count": 135,
   "id": "9b50d5dd-1b31-41d2-a74e-5514fbf9c358",
   "metadata": {},
   "outputs": [
    {
     "data": {
      "text/html": [
       "<div>\n",
       "<style scoped>\n",
       "    .dataframe tbody tr th:only-of-type {\n",
       "        vertical-align: middle;\n",
       "    }\n",
       "\n",
       "    .dataframe tbody tr th {\n",
       "        vertical-align: top;\n",
       "    }\n",
       "\n",
       "    .dataframe thead th {\n",
       "        text-align: right;\n",
       "    }\n",
       "</style>\n",
       "<table border=\"1\" class=\"dataframe\">\n",
       "  <thead>\n",
       "    <tr style=\"text-align: right;\">\n",
       "      <th></th>\n",
       "      <th>Name</th>\n",
       "      <th>Email</th>\n",
       "      <th>Location</th>\n",
       "      <th>Party Size</th>\n",
       "      <th>Date</th>\n",
       "      <th>Time</th>\n",
       "      <th>Message</th>\n",
       "    </tr>\n",
       "  </thead>\n",
       "  <tbody>\n",
       "    <tr>\n",
       "      <th>254</th>\n",
       "      <td>Darragh Murphy</td>\n",
       "      <td>darraghmurphy22@gmail.com</td>\n",
       "      <td>Tallaght</td>\n",
       "      <td>NaN</td>\n",
       "      <td>November 19, 2024</td>\n",
       "      <td>07:26 AM</td>\n",
       "      <td>Order number 72086044. Hi Team, Normally I am ...</td>\n",
       "    </tr>\n",
       "    <tr>\n",
       "      <th>255</th>\n",
       "      <td>Ben Fitzgerald</td>\n",
       "      <td>benfitzgerald159@gmail.com</td>\n",
       "      <td>Tallaght</td>\n",
       "      <td>NaN</td>\n",
       "      <td>November 18, 2024</td>\n",
       "      <td>11:21 PM</td>\n",
       "      <td>I am currently looking for a part time job and...</td>\n",
       "    </tr>\n",
       "    <tr>\n",
       "      <th>256</th>\n",
       "      <td>John Horan</td>\n",
       "      <td>jhoran12543@gmail.com</td>\n",
       "      <td>Stillorgan</td>\n",
       "      <td>21.0</td>\n",
       "      <td>November 18, 2024</td>\n",
       "      <td>08:31 PM</td>\n",
       "      <td>From 2:30-4:30 for food and some drinks</td>\n",
       "    </tr>\n",
       "    <tr>\n",
       "      <th>257</th>\n",
       "      <td>Niall Mc Dermott</td>\n",
       "      <td>McDermott.n@gmail.com</td>\n",
       "      <td>Stillorgan</td>\n",
       "      <td>NaN</td>\n",
       "      <td>November 18, 2024</td>\n",
       "      <td>04:36 PM</td>\n",
       "      <td>I am looking to book a table for 6.45pm this e...</td>\n",
       "    </tr>\n",
       "    <tr>\n",
       "      <th>258</th>\n",
       "      <td>Robert Dillon</td>\n",
       "      <td>bobdillon1409@gmail.com</td>\n",
       "      <td>Clondalkin</td>\n",
       "      <td>NaN</td>\n",
       "      <td>November 17, 2024</td>\n",
       "      <td>08:43 PM</td>\n",
       "      <td>Hey there’s how’s things , I made an order the...</td>\n",
       "    </tr>\n",
       "    <tr>\n",
       "      <th>...</th>\n",
       "      <td>...</td>\n",
       "      <td>...</td>\n",
       "      <td>...</td>\n",
       "      <td>...</td>\n",
       "      <td>...</td>\n",
       "      <td>...</td>\n",
       "      <td>...</td>\n",
       "    </tr>\n",
       "    <tr>\n",
       "      <th>348</th>\n",
       "      <td>Alice</td>\n",
       "      <td>alicedodrill@gmail.com</td>\n",
       "      <td>NaN</td>\n",
       "      <td>NaN</td>\n",
       "      <td>October 4, 2024</td>\n",
       "      <td>07:02 AM</td>\n",
       "      <td>I received an order last night from you but be...</td>\n",
       "    </tr>\n",
       "    <tr>\n",
       "      <th>349</th>\n",
       "      <td>Cliodhna Mac Cabe</td>\n",
       "      <td>cliodhnamaccabe@hotmail.com</td>\n",
       "      <td>NaN</td>\n",
       "      <td>NaN</td>\n",
       "      <td>October 3, 2024</td>\n",
       "      <td>03:17 PM</td>\n",
       "      <td>Hi all  I am reaching out on behalf of the Tho...</td>\n",
       "    </tr>\n",
       "    <tr>\n",
       "      <th>350</th>\n",
       "      <td>Ciara Murray</td>\n",
       "      <td>ciaramurray2001@hotmail.com</td>\n",
       "      <td>NaN</td>\n",
       "      <td>NaN</td>\n",
       "      <td>October 2, 2024</td>\n",
       "      <td>09:32 PM</td>\n",
       "      <td>Hi, I’ve just ordered a delivery from you. I o...</td>\n",
       "    </tr>\n",
       "    <tr>\n",
       "      <th>351</th>\n",
       "      <td>anita</td>\n",
       "      <td>anitagill08@hotmail.com</td>\n",
       "      <td>NaN</td>\n",
       "      <td>NaN</td>\n",
       "      <td>October 1, 2024</td>\n",
       "      <td>05:04 PM</td>\n",
       "      <td>hello Could I please reserve a table for 10 fo...</td>\n",
       "    </tr>\n",
       "    <tr>\n",
       "      <th>352</th>\n",
       "      <td>Sinead Curtin</td>\n",
       "      <td>smcurtin@gmail.com</td>\n",
       "      <td>NaN</td>\n",
       "      <td>NaN</td>\n",
       "      <td>September 30, 2024</td>\n",
       "      <td>09:40 PM</td>\n",
       "      <td>Re: order reference:70865128, from Clondalkin ...</td>\n",
       "    </tr>\n",
       "  </tbody>\n",
       "</table>\n",
       "<p>99 rows × 7 columns</p>\n",
       "</div>"
      ],
      "text/plain": [
       "                  Name                        Email    Location  Party Size  \\\n",
       "254     Darragh Murphy    darraghmurphy22@gmail.com    Tallaght         NaN   \n",
       "255     Ben Fitzgerald   benfitzgerald159@gmail.com    Tallaght         NaN   \n",
       "256         John Horan        jhoran12543@gmail.com  Stillorgan        21.0   \n",
       "257   Niall Mc Dermott        McDermott.n@gmail.com  Stillorgan         NaN   \n",
       "258      Robert Dillon      bobdillon1409@gmail.com  Clondalkin         NaN   \n",
       "..                 ...                          ...         ...         ...   \n",
       "348              Alice       alicedodrill@gmail.com         NaN         NaN   \n",
       "349  Cliodhna Mac Cabe  cliodhnamaccabe@hotmail.com         NaN         NaN   \n",
       "350       Ciara Murray  ciaramurray2001@hotmail.com         NaN         NaN   \n",
       "351              anita      anitagill08@hotmail.com         NaN         NaN   \n",
       "352      Sinead Curtin           smcurtin@gmail.com         NaN         NaN   \n",
       "\n",
       "                   Date      Time  \\\n",
       "254   November 19, 2024  07:26 AM   \n",
       "255   November 18, 2024  11:21 PM   \n",
       "256   November 18, 2024  08:31 PM   \n",
       "257   November 18, 2024  04:36 PM   \n",
       "258   November 17, 2024  08:43 PM   \n",
       "..                  ...       ...   \n",
       "348     October 4, 2024  07:02 AM   \n",
       "349     October 3, 2024  03:17 PM   \n",
       "350     October 2, 2024  09:32 PM   \n",
       "351     October 1, 2024  05:04 PM   \n",
       "352  September 30, 2024  09:40 PM   \n",
       "\n",
       "                                               Message  \n",
       "254  Order number 72086044. Hi Team, Normally I am ...  \n",
       "255  I am currently looking for a part time job and...  \n",
       "256           From 2:30-4:30 for food and some drinks   \n",
       "257  I am looking to book a table for 6.45pm this e...  \n",
       "258  Hey there’s how’s things , I made an order the...  \n",
       "..                                                 ...  \n",
       "348  I received an order last night from you but be...  \n",
       "349  Hi all  I am reaching out on behalf of the Tho...  \n",
       "350  Hi, I’ve just ordered a delivery from you. I o...  \n",
       "351  hello Could I please reserve a table for 10 fo...  \n",
       "352  Re: order reference:70865128, from Clondalkin ...  \n",
       "\n",
       "[99 rows x 7 columns]"
      ]
     },
     "execution_count": 135,
     "metadata": {},
     "output_type": "execute_result"
    }
   ],
   "source": [
    "\n",
    "\n",
    "\n",
    "#  'Time' to datetime format\n",
    "chatbot_df[\"Time\"] = pd.to_datetime(chatbot_df[\"Time\"], format=\"%I:%M %p\", errors='coerce')\n",
    "\n",
    "\n",
    "valid_times = chatbot_df.loc[81:, \"Time\"].dropna()\n",
    "\n",
    "# Randomly assign times\n",
    "chatbot_df.loc[:79, \"Time\"] = np.random.choice(valid_times, size=80, replace=True)\n",
    "\n",
    "# Convert back \n",
    "chatbot_df[\"Time\"] = chatbot_df[\"Time\"].dt.strftime(\"%I:%M %p\")\n",
    "\n",
    "chatbot_df.to_csv('chatbot_data_cleaned.csv', index=False)\n",
    "chatbot_df.tail(99)\n",
    "\n"
   ]
  },
  {
   "cell_type": "code",
   "execution_count": 143,
   "id": "38c97756-ac0e-4f60-9b88-85229e5c5dd4",
   "metadata": {},
   "outputs": [
    {
     "data": {
      "text/plain": [
       "<seaborn.axisgrid.FacetGrid at 0x23a5637ee70>"
      ]
     },
     "execution_count": 143,
     "metadata": {},
     "output_type": "execute_result"
    },
    {
     "data": {
      "image/png": "[encoded data removed]",
      "text/plain": [
       "<Figure size 500x500 with 1 Axes>"
      ]
     },
     "metadata": {},
     "output_type": "display_data"
    }
   ],
   "source": [
    "sns.displot(chatbot_df['Location'])"
   ]
  },
  {
   "cell_type": "code",
   "execution_count": 293,
   "id": "d17f27d6-8bb8-4642-9184-6232b2cceedd",
   "metadata": {},
   "outputs": [],
   "source": [
    "chatbot_df = pd.read_csv('chatbot_data_cleaned.csv')\n",
    "chatbot_df[\"Time\"] = pd.to_datetime(chatbot_df[\"Time\"], format=\"%I:%M %p\", errors='coerce')\n",
    "chatbot_df[\"Time\"] = chatbot_df[\"Time\"].dt.strftime(\"%I:%M %p\")\n"
   ]
  },
  {
   "cell_type": "code",
   "execution_count": 297,
   "id": "388e0631-a94d-4fe3-9270-082d8eec5f64",
   "metadata": {},
   "outputs": [
    {
     "data": {
      "image/png": "[encoded data removed]",
      "text/plain": [
       "<Figure size 800x500 with 1 Axes>"
      ]
     },
     "metadata": {},
     "output_type": "display_data"
    }
   ],
   "source": [
    "import seaborn as sns\n",
    "import matplotlib.pyplot as plt\n",
    "import pandas as pd\n",
    "\n",
    "# format 24 hours\n",
    "chatbot_df[\"Time\"] = pd.to_datetime(chatbot_df[\"Time\"], format=\"%I:%M %p\", errors='coerce')\n",
    "chatbot_df[\"Time\"] = chatbot_df[\"Time\"].dt.hour  # Extract only the hour (0-23)\n",
    "\n",
    "# Plot the KDE distribution\n",
    "plt.figure(figsize=(8, 5))\n",
    "sns.kdeplot(chatbot_df['Time'], fill=True)\n",
    "\n",
    "\n",
    "plt.xticks(range(0, 25, 3)) \n",
    "plt.xlabel(\"Time (24-hour format)\")\n",
    "plt.ylabel(\"Density\")\n",
    "plt.title(\"Enquiry Time Distribution\")\n",
    "\n",
    "plt.show()\n"
   ]
  },
  {
   "cell_type": "code",
   "execution_count": 309,
   "id": "4619f47f-0863-49cf-b954-95ef3326fd0d",
   "metadata": {},
   "outputs": [
    {
     "data": {
      "text/plain": [
       "<Figure size 1200x600 with 0 Axes>"
      ]
     },
     "metadata": {},
     "output_type": "display_data"
    },
    {
     "data": {
      "image/png": "[encoded data removed]",
      "text/plain": [
       "<Figure size 1200x600 with 1 Axes>"
      ]
     },
     "metadata": {},
     "output_type": "display_data"
    }
   ],
   "source": [
    "import pandas as pd\n",
    "import matplotlib.pyplot as plt\n",
    "import seaborn as sns\n",
    "import calendar\n",
    "\n",
    "\n",
    "chatbot_df[\"Date\"] = pd.to_datetime(chatbot_df[\"Date\"], errors=\"coerce\")\n",
    "\n",
    "# Extract Year, Month, Day, and Weekday\n",
    "chatbot_df[\"Year\"] = chatbot_df[\"Date\"].dt.year\n",
    "chatbot_df[\"Month\"] = chatbot_df[\"Date\"].dt.month\n",
    "chatbot_df[\"Day\"] = chatbot_df[\"Date\"].dt.day\n",
    "chatbot_df[\"Weekday\"] = chatbot_df[\"Date\"].dt.day_name()  # Get full weekday name\n",
    "\n",
    "# Convert Month number to Month name \n",
    "chatbot_df[\"Month\"] = chatbot_df[\"Month\"].fillna(0).astype(int)\n",
    "chatbot_df[\"Month\"] = chatbot_df[\"Month\"].apply(lambda x: calendar.month_name[x])\n",
    "\n",
    "# Group by Month and Location, and count the number of enquiries for each combination\n",
    "monthly_counts = chatbot_df.groupby([\"Month\", \"Location\"]).size().reset_index(name=\"EnquiryCount\")\n",
    "\n",
    "# Pivot the table to have a count of enquiries per month and location\n",
    "monthly_counts_pivot = monthly_counts.pivot_table(index=\"Month\", columns=\"Location\", values=\"EnquiryCount\", aggfunc=\"sum\", fill_value=0)\n",
    "\n",
    "# Plotting a Stacked Bar Plot \n",
    "plt.figure(figsize=(12, 6))\n",
    "monthly_counts_pivot.plot(kind=\"bar\", stacked=True, figsize=(12, 6))\n",
    "\n",
    "# \n",
    "plt.xticks(rotation=45)\n",
    "plt.xlabel(\"Month\")\n",
    "plt.ylabel(\"Number of Enquiries\")\n",
    "plt.title(\"Monthly Distribution of  Enquiries by Location\")\n",
    "plt.legend(title=\"Location\", loc=\"upper right\")\n",
    "\n",
    "plt.show()\n"
   ]
  },
  {
   "cell_type": "code",
   "execution_count": 311,
   "id": "65752cf1-80f7-4586-a84a-1f5878ea74bf",
   "metadata": {},
   "outputs": [
    {
     "name": "stderr",
     "output_type": "stream",
     "text": [
      "C:\\Users\\Acer Nitro\\AppData\\Local\\Temp\\ipykernel_6592\\1459805333.py:8: FutureWarning: The default value of observed=False is deprecated and will change to observed=True in a future version of pandas. Specify observed=False to silence this warning and retain the current behavior\n",
      "  weekday_counts_pivot = weekday_counts.pivot_table(index=\"Weekday\", columns=\"Location\", values=\"EnquiryCount\", aggfunc=\"sum\", fill_value=0)\n"
     ]
    },
    {
     "data": {
      "text/plain": [
       "<Figure size 1200x600 with 0 Axes>"
      ]
     },
     "metadata": {},
     "output_type": "display_data"
    },
    {
     "data": {
      "image/png": "[encoded data removed]",
      "text/plain": [
       "<Figure size 1200x600 with 1 Axes>"
      ]
     },
     "metadata": {},
     "output_type": "display_data"
    }
   ],
   "source": [
    "weekday_counts = chatbot_df.groupby([\"Weekday\", \"Location\"]).size().reset_index(name=\"EnquiryCount\")\n",
    "\n",
    "\n",
    "weekday_order = ['Monday', 'Tuesday', 'Wednesday', 'Thursday', 'Friday', 'Saturday', 'Sunday']\n",
    "weekday_counts[\"Weekday\"] = pd.Categorical(weekday_counts[\"Weekday\"], categories=weekday_order, ordered=True)\n",
    "\n",
    "# Pivot the table to have a count of enquiries per weekday and location\n",
    "weekday_counts_pivot = weekday_counts.pivot_table(index=\"Weekday\", columns=\"Location\", values=\"EnquiryCount\", aggfunc=\"sum\", fill_value=0)\n",
    "\n",
    "# Stacked bar\n",
    "plt.figure(figsize=(12, 6))\n",
    "weekday_counts_pivot.plot(kind=\"bar\", stacked=True, figsize=(12, 6))\n",
    "\n",
    "plt.xticks(rotation=45)\n",
    "plt.xlabel(\"Weekday\")\n",
    "plt.ylabel(\"Number of Enquiries\")\n",
    "plt.title(\"Weekly Distribution of Chatbot Enquiries by Location\")\n",
    "plt.legend(title=\"Location\", loc=\"upper right\")\n",
    "\n",
    "plt.show()"
   ]
  },
  {
   "cell_type": "code",
   "execution_count": 307,
   "id": "d864aa9c-9d27-4717-b553-063ea0f127e8",
   "metadata": {},
   "outputs": [
    {
     "data": {
      "text/html": [
       "<div>\n",
       "<style scoped>\n",
       "    .dataframe tbody tr th:only-of-type {\n",
       "        vertical-align: middle;\n",
       "    }\n",
       "\n",
       "    .dataframe tbody tr th {\n",
       "        vertical-align: top;\n",
       "    }\n",
       "\n",
       "    .dataframe thead th {\n",
       "        text-align: right;\n",
       "    }\n",
       "</style>\n",
       "<table border=\"1\" class=\"dataframe\">\n",
       "  <thead>\n",
       "    <tr style=\"text-align: right;\">\n",
       "      <th>Location</th>\n",
       "      <th>Clondalkin</th>\n",
       "      <th>Stillorgan</th>\n",
       "      <th>Tallaght</th>\n",
       "    </tr>\n",
       "    <tr>\n",
       "      <th>Month</th>\n",
       "      <th></th>\n",
       "      <th></th>\n",
       "      <th></th>\n",
       "    </tr>\n",
       "  </thead>\n",
       "  <tbody>\n",
       "    <tr>\n",
       "      <th></th>\n",
       "      <td>1</td>\n",
       "      <td>0</td>\n",
       "      <td>0</td>\n",
       "    </tr>\n",
       "    <tr>\n",
       "      <th>December</th>\n",
       "      <td>26</td>\n",
       "      <td>29</td>\n",
       "      <td>10</td>\n",
       "    </tr>\n",
       "    <tr>\n",
       "      <th>February</th>\n",
       "      <td>29</td>\n",
       "      <td>19</td>\n",
       "      <td>17</td>\n",
       "    </tr>\n",
       "    <tr>\n",
       "      <th>January</th>\n",
       "      <td>34</td>\n",
       "      <td>22</td>\n",
       "      <td>11</td>\n",
       "    </tr>\n",
       "    <tr>\n",
       "      <th>March</th>\n",
       "      <td>13</td>\n",
       "      <td>15</td>\n",
       "      <td>3</td>\n",
       "    </tr>\n",
       "    <tr>\n",
       "      <th>November</th>\n",
       "      <td>19</td>\n",
       "      <td>13</td>\n",
       "      <td>11</td>\n",
       "    </tr>\n",
       "    <tr>\n",
       "      <th>October</th>\n",
       "      <td>3</td>\n",
       "      <td>3</td>\n",
       "      <td>0</td>\n",
       "    </tr>\n",
       "  </tbody>\n",
       "</table>\n",
       "</div>"
      ],
      "text/plain": [
       "Location  Clondalkin  Stillorgan  Tallaght\n",
       "Month                                     \n",
       "                   1           0         0\n",
       "December          26          29        10\n",
       "February          29          19        17\n",
       "January           34          22        11\n",
       "March             13          15         3\n",
       "November          19          13        11\n",
       "October            3           3         0"
      ]
     },
     "execution_count": 307,
     "metadata": {},
     "output_type": "execute_result"
    }
   ],
   "source": []
  },
  {
   "cell_type": "code",
   "execution_count": 305,
   "id": "e80c092c-2d1a-409c-bfc1-6978802348d4",
   "metadata": {},
   "outputs": [
    {
     "data": {
      "text/html": [
       "<div>\n",
       "<style scoped>\n",
       "    .dataframe tbody tr th:only-of-type {\n",
       "        vertical-align: middle;\n",
       "    }\n",
       "\n",
       "    .dataframe tbody tr th {\n",
       "        vertical-align: top;\n",
       "    }\n",
       "\n",
       "    .dataframe thead th {\n",
       "        text-align: right;\n",
       "    }\n",
       "</style>\n",
       "<table border=\"1\" class=\"dataframe\">\n",
       "  <thead>\n",
       "    <tr style=\"text-align: right;\">\n",
       "      <th></th>\n",
       "      <th>Name</th>\n",
       "      <th>Email</th>\n",
       "      <th>Location</th>\n",
       "      <th>Party Size</th>\n",
       "      <th>Date</th>\n",
       "      <th>Time</th>\n",
       "      <th>Message</th>\n",
       "      <th>Year</th>\n",
       "      <th>Month</th>\n",
       "      <th>Day</th>\n",
       "      <th>Weekday</th>\n",
       "    </tr>\n",
       "  </thead>\n",
       "  <tbody>\n",
       "    <tr>\n",
       "      <th>0</th>\n",
       "      <td>Joe Barcoe</td>\n",
       "      <td>jobarcoe@gmail.com</td>\n",
       "      <td>Stillorgan</td>\n",
       "      <td>30.0</td>\n",
       "      <td>2025-03-11</td>\n",
       "      <td>10</td>\n",
       "      <td>Hi, I hope you are having a lovely week so far...</td>\n",
       "      <td>2025.0</td>\n",
       "      <td>March</td>\n",
       "      <td>11.0</td>\n",
       "      <td>Tuesday</td>\n",
       "    </tr>\n",
       "    <tr>\n",
       "      <th>1</th>\n",
       "      <td>Katherine Beirne</td>\n",
       "      <td>Katherineb19@gmail.com</td>\n",
       "      <td>Clondalkin</td>\n",
       "      <td>NaN</td>\n",
       "      <td>2025-03-22</td>\n",
       "      <td>18</td>\n",
       "      <td>Could we get a wee dessert with a sparkler aft...</td>\n",
       "      <td>2025.0</td>\n",
       "      <td>March</td>\n",
       "      <td>22.0</td>\n",
       "      <td>Saturday</td>\n",
       "    </tr>\n",
       "    <tr>\n",
       "      <th>2</th>\n",
       "      <td>Roxanne vella</td>\n",
       "      <td>boxey12@gmail.com</td>\n",
       "      <td>Stillorgan</td>\n",
       "      <td>NaN</td>\n",
       "      <td>2025-03-10</td>\n",
       "      <td>15</td>\n",
       "      <td>Hi just wondering would the restaurant be able...</td>\n",
       "      <td>2025.0</td>\n",
       "      <td>March</td>\n",
       "      <td>10.0</td>\n",
       "      <td>Monday</td>\n",
       "    </tr>\n",
       "    <tr>\n",
       "      <th>3</th>\n",
       "      <td>Andrew Wade</td>\n",
       "      <td>Andy.f.wade@gmail.com</td>\n",
       "      <td>Clondalkin</td>\n",
       "      <td>NaN</td>\n",
       "      <td>2025-03-17</td>\n",
       "      <td>10</td>\n",
       "      <td>Hi There, Myself and my wife (Liz Wade 086 842...</td>\n",
       "      <td>2025.0</td>\n",
       "      <td>March</td>\n",
       "      <td>17.0</td>\n",
       "      <td>Monday</td>\n",
       "    </tr>\n",
       "    <tr>\n",
       "      <th>4</th>\n",
       "      <td>Michele O'Riordan</td>\n",
       "      <td>shell.oriordan@gmail.com</td>\n",
       "      <td>Stillorgan</td>\n",
       "      <td>NaN</td>\n",
       "      <td>2025-03-09</td>\n",
       "      <td>21</td>\n",
       "      <td>Hi, I think I placed a booking this morning fo...</td>\n",
       "      <td>2025.0</td>\n",
       "      <td>March</td>\n",
       "      <td>9.0</td>\n",
       "      <td>Sunday</td>\n",
       "    </tr>\n",
       "    <tr>\n",
       "      <th>...</th>\n",
       "      <td>...</td>\n",
       "      <td>...</td>\n",
       "      <td>...</td>\n",
       "      <td>...</td>\n",
       "      <td>...</td>\n",
       "      <td>...</td>\n",
       "      <td>...</td>\n",
       "      <td>...</td>\n",
       "      <td>...</td>\n",
       "      <td>...</td>\n",
       "      <td>...</td>\n",
       "    </tr>\n",
       "    <tr>\n",
       "      <th>348</th>\n",
       "      <td>Alice</td>\n",
       "      <td>alicedodrill@gmail.com</td>\n",
       "      <td>NaN</td>\n",
       "      <td>NaN</td>\n",
       "      <td>2024-10-04</td>\n",
       "      <td>7</td>\n",
       "      <td>I received an order last night from you but be...</td>\n",
       "      <td>2024.0</td>\n",
       "      <td>October</td>\n",
       "      <td>4.0</td>\n",
       "      <td>Friday</td>\n",
       "    </tr>\n",
       "    <tr>\n",
       "      <th>349</th>\n",
       "      <td>Cliodhna Mac Cabe</td>\n",
       "      <td>cliodhnamaccabe@hotmail.com</td>\n",
       "      <td>NaN</td>\n",
       "      <td>NaN</td>\n",
       "      <td>2024-10-03</td>\n",
       "      <td>15</td>\n",
       "      <td>Hi all  I am reaching out on behalf of the Tho...</td>\n",
       "      <td>2024.0</td>\n",
       "      <td>October</td>\n",
       "      <td>3.0</td>\n",
       "      <td>Thursday</td>\n",
       "    </tr>\n",
       "    <tr>\n",
       "      <th>350</th>\n",
       "      <td>Ciara Murray</td>\n",
       "      <td>ciaramurray2001@hotmail.com</td>\n",
       "      <td>NaN</td>\n",
       "      <td>NaN</td>\n",
       "      <td>2024-10-02</td>\n",
       "      <td>21</td>\n",
       "      <td>Hi, I’ve just ordered a delivery from you. I o...</td>\n",
       "      <td>2024.0</td>\n",
       "      <td>October</td>\n",
       "      <td>2.0</td>\n",
       "      <td>Wednesday</td>\n",
       "    </tr>\n",
       "    <tr>\n",
       "      <th>351</th>\n",
       "      <td>anita</td>\n",
       "      <td>anitagill08@hotmail.com</td>\n",
       "      <td>NaN</td>\n",
       "      <td>NaN</td>\n",
       "      <td>2024-10-01</td>\n",
       "      <td>17</td>\n",
       "      <td>hello Could I please reserve a table for 10 fo...</td>\n",
       "      <td>2024.0</td>\n",
       "      <td>October</td>\n",
       "      <td>1.0</td>\n",
       "      <td>Tuesday</td>\n",
       "    </tr>\n",
       "    <tr>\n",
       "      <th>352</th>\n",
       "      <td>Sinead Curtin</td>\n",
       "      <td>smcurtin@gmail.com</td>\n",
       "      <td>NaN</td>\n",
       "      <td>NaN</td>\n",
       "      <td>2024-09-30</td>\n",
       "      <td>21</td>\n",
       "      <td>Re: order reference:70865128, from Clondalkin ...</td>\n",
       "      <td>2024.0</td>\n",
       "      <td>September</td>\n",
       "      <td>30.0</td>\n",
       "      <td>Monday</td>\n",
       "    </tr>\n",
       "  </tbody>\n",
       "</table>\n",
       "<p>353 rows × 11 columns</p>\n",
       "</div>"
      ],
      "text/plain": [
       "                  Name                        Email    Location  Party Size  \\\n",
       "0           Joe Barcoe           jobarcoe@gmail.com  Stillorgan        30.0   \n",
       "1     Katherine Beirne       Katherineb19@gmail.com  Clondalkin         NaN   \n",
       "2        Roxanne vella            boxey12@gmail.com  Stillorgan         NaN   \n",
       "3          Andrew Wade        Andy.f.wade@gmail.com  Clondalkin         NaN   \n",
       "4    Michele O'Riordan     shell.oriordan@gmail.com  Stillorgan         NaN   \n",
       "..                 ...                          ...         ...         ...   \n",
       "348              Alice       alicedodrill@gmail.com         NaN         NaN   \n",
       "349  Cliodhna Mac Cabe  cliodhnamaccabe@hotmail.com         NaN         NaN   \n",
       "350       Ciara Murray  ciaramurray2001@hotmail.com         NaN         NaN   \n",
       "351              anita      anitagill08@hotmail.com         NaN         NaN   \n",
       "352      Sinead Curtin           smcurtin@gmail.com         NaN         NaN   \n",
       "\n",
       "          Date  Time                                            Message  \\\n",
       "0   2025-03-11    10  Hi, I hope you are having a lovely week so far...   \n",
       "1   2025-03-22    18  Could we get a wee dessert with a sparkler aft...   \n",
       "2   2025-03-10    15  Hi just wondering would the restaurant be able...   \n",
       "3   2025-03-17    10  Hi There, Myself and my wife (Liz Wade 086 842...   \n",
       "4   2025-03-09    21  Hi, I think I placed a booking this morning fo...   \n",
       "..         ...   ...                                                ...   \n",
       "348 2024-10-04     7  I received an order last night from you but be...   \n",
       "349 2024-10-03    15  Hi all  I am reaching out on behalf of the Tho...   \n",
       "350 2024-10-02    21  Hi, I’ve just ordered a delivery from you. I o...   \n",
       "351 2024-10-01    17  hello Could I please reserve a table for 10 fo...   \n",
       "352 2024-09-30    21  Re: order reference:70865128, from Clondalkin ...   \n",
       "\n",
       "       Year      Month   Day    Weekday  \n",
       "0    2025.0      March  11.0    Tuesday  \n",
       "1    2025.0      March  22.0   Saturday  \n",
       "2    2025.0      March  10.0     Monday  \n",
       "3    2025.0      March  17.0     Monday  \n",
       "4    2025.0      March   9.0     Sunday  \n",
       "..      ...        ...   ...        ...  \n",
       "348  2024.0    October   4.0     Friday  \n",
       "349  2024.0    October   3.0   Thursday  \n",
       "350  2024.0    October   2.0  Wednesday  \n",
       "351  2024.0    October   1.0    Tuesday  \n",
       "352  2024.0  September  30.0     Monday  \n",
       "\n",
       "[353 rows x 11 columns]"
      ]
     },
     "execution_count": 305,
     "metadata": {},
     "output_type": "execute_result"
    }
   ],
   "source": [
    "chatbot_df"
   ]
  },
  {
   "cell_type": "code",
   "execution_count": 313,
   "id": "5863dcb2-221a-462f-bb1a-e4844801d552",
   "metadata": {},
   "outputs": [
    {
     "name": "stdout",
     "output_type": "stream",
     "text": [
      "                          Email  Occurrences\n",
      "0        margiekerins@gmail.com            5\n",
      "1            stacyquinn@live.ie            3\n",
      "2        chapmanjohnw@gmail.com            3\n",
      "3          Sjscully@yahoo.co.uk            2\n",
      "4        jenniferg977@gmail.com            2\n",
      "5     cherylwilson151@gmail.com            2\n",
      "6    eimearwhelan1505@gmail.com            2\n",
      "7    mayres@spiritmotorgroup.ie            2\n",
      "8    sean.langan@dublinmaths.ie            2\n",
      "9                giller@live.ie            2\n",
      "10      gilly.andorra@gmail.com            2\n",
      "11      rachelbrady93@gmail.com            2\n",
      "12       alannaghmcm2@gmail.com            2\n",
      "13         patlcullen@gmail.com            2\n",
      "14     niamhyscully@yahoo.co.uk            2\n",
      "15        anitak158@hotmail.com            2\n",
      "16       ayshibijoy04@gmail.com            2\n",
      "17  roisin.ohuadhaigh@gmail.com            2\n",
      "18   Arlenekavanagh@yahoo.co.uk            2\n",
      "19       Katherineb19@gmail.com            2\n",
      "20    eimspillage00@hotmail.com            2\n",
      "21       nicolnewsome@gmail.com            2\n",
      "22      susualihassan@gmail.com            2\n",
      "23              carrolne@tcd.ie            2\n"
     ]
    }
   ],
   "source": [
    "\n",
    "# Count \n",
    "email_counts = chatbot_df['Email'].value_counts()\n",
    "\n",
    "# Filter for emails appereance\n",
    "recurrent_clients = email_counts[email_counts >= 2]\n",
    "\n",
    "# Create a DataFrame \n",
    "recurrent_clients_df = pd.DataFrame(recurrent_clients).reset_index()\n",
    "recurrent_clients_df.columns = ['Email', 'Occurrences']\n",
    "\n",
    "# csv\n",
    "recurrent_clients_df.to_csv('recurrent_clients.csv', index=False)\n",
    "\n",
    "print(recurrent_clients_df)\n"
   ]
  },
  {
   "cell_type": "code",
   "execution_count": 137,
   "id": "c5348be3-100a-4a56-b4aa-1b55dffcfbf4",
   "metadata": {},
   "outputs": [],
   "source": [
    "text = \"I ordered tonight for the first time since May and can’t get over the drop in quality and portion size of the food. I spent €65 feeding 4 people which I normally would justify for good food but what I received was far below average. Feel free to contact me about this disappointing order\""
   ]
  },
  {
   "cell_type": "code",
   "execution_count": 73,
   "id": "784b9464-1068-404b-9b8b-0cef77855977",
   "metadata": {},
   "outputs": [
    {
     "name": "stderr",
     "output_type": "stream",
     "text": [
      "[nltk_data] Downloading package punkt to C:\\Users\\Acer\n",
      "[nltk_data]     Nitro\\AppData\\Roaming\\nltk_data...\n",
      "[nltk_data]   Unzipping tokenizers\\punkt.zip.\n"
     ]
    }
   ],
   "source": [
    "import nltk \n",
    "nltk.download('punkt')\n",
    "from nltk.tokenize import sent_tokenize\n",
    "\n",
    "## NLTK library for NLP \n",
    "## Segmentation\n",
    "## Tokenizing\n",
    "## Stop words\n",
    "## Stemming \n",
    "## Lemmatization\n",
    "## Speech Tagging\n",
    "## Named Entity Tagging\n",
    "## Reference : https://www.youtube.com/watch?v=MpIagClRELI"
   ]
  },
  {
   "cell_type": "code",
   "execution_count": 77,
   "id": "2fcc2115-2dc6-46dc-aac4-d506a5d8ae0f",
   "metadata": {},
   "outputs": [
    {
     "data": {
      "text/plain": [
       "['I ordered tonight for the first time since May and can’t get over the drop in quality and portion size of the food.',\n",
       " 'I spent €65 feeding 4 people which I normally would justify for good food but what I received was far below average.',\n",
       " 'Feel free to contact me about this disappointing order']"
      ]
     },
     "execution_count": 77,
     "metadata": {},
     "output_type": "execute_result"
    }
   ],
   "source": [
    "#Segmentation\n",
    "seg_sentences = sent_tokenize(text)\n",
    "seg_sentences"
   ]
  },
  {
   "cell_type": "code",
   "execution_count": 79,
   "id": "7c449e7a-b9ae-482e-90b8-6204d5509b8c",
   "metadata": {},
   "outputs": [
    {
     "data": {
      "text/plain": [
       "'I spent €65 feeding 4 people which I normally would justify for good food but what I received was far below average.'"
      ]
     },
     "execution_count": 79,
     "metadata": {},
     "output_type": "execute_result"
    }
   ],
   "source": [
    "seg_sentences[1]"
   ]
  },
  {
   "cell_type": "code",
   "execution_count": 85,
   "id": "f09b063a-3dbe-4a40-8ca3-95eb146cede8",
   "metadata": {},
   "outputs": [
    {
     "data": {
      "text/plain": [
       "'I spent  65 feeding 4 people which I normally would justify for good food but what I received was far below average '"
      ]
     },
     "execution_count": 85,
     "metadata": {},
     "output_type": "execute_result"
    }
   ],
   "source": [
    "text = re.sub(r\"[^a-zA-Z0-9]\", \" \", seg_sentences[1])\n",
    "text"
   ]
  },
  {
   "cell_type": "code",
   "execution_count": 87,
   "id": "01cfde85-2219-41f8-b7cd-1fc961c92588",
   "metadata": {},
   "outputs": [],
   "source": [
    "# Tokenizing\n",
    "from nltk.tokenize import word_tokenize\n"
   ]
  },
  {
   "cell_type": "code",
   "execution_count": 89,
   "id": "533a59a8-550f-494e-b171-4399554ed25a",
   "metadata": {},
   "outputs": [
    {
     "name": "stdout",
     "output_type": "stream",
     "text": [
      "['I', 'spent', '65', 'feeding', '4', 'people', 'which', 'I', 'normally', 'would', 'justify', 'for', 'good', 'food', 'but', 'what', 'I', 'received', 'was', 'far', 'below', 'average']\n"
     ]
    }
   ],
   "source": [
    "words = word_tokenize(text)\n",
    "print (words)"
   ]
  },
  {
   "cell_type": "code",
   "execution_count": 91,
   "id": "fe3131d3-5515-47fb-b6d9-68fa0b3aaa6e",
   "metadata": {},
   "outputs": [
    {
     "name": "stderr",
     "output_type": "stream",
     "text": [
      "[nltk_data] Downloading package stopwords to C:\\Users\\Acer\n",
      "[nltk_data]     Nitro\\AppData\\Roaming\\nltk_data...\n",
      "[nltk_data]   Unzipping corpora\\stopwords.zip.\n"
     ]
    }
   ],
   "source": [
    "#### Removal of Stop words\n",
    "nltk.download('stopwords')\n",
    "from nltk.corpus import stopwords"
   ]
  },
  {
   "cell_type": "code",
   "execution_count": 93,
   "id": "4cc00bdf-2245-4f1c-857d-535ef12f2cf6",
   "metadata": {},
   "outputs": [
    {
     "name": "stdout",
     "output_type": "stream",
     "text": [
      "['I', 'spent', '65', 'feeding', '4', 'people', 'I', 'normally', 'would', 'justify', 'good', 'food', 'I', 'received', 'far', 'average']\n"
     ]
    }
   ],
   "source": [
    "words = [w for w in words if w not in stopwords.words(\"english\")]\n",
    "print (words)"
   ]
  },
  {
   "cell_type": "code",
   "execution_count": 97,
   "id": "ba3cefea-af51-40ae-ba0e-e44f9d518e42",
   "metadata": {},
   "outputs": [
    {
     "name": "stdout",
     "output_type": "stream",
     "text": [
      "['a', 'about', 'above', 'after', 'again', 'against', 'ain', 'all', 'am', 'an', 'and', 'any', 'are', 'aren', \"aren't\", 'as', 'at', 'be', 'because', 'been', 'before', 'being', 'below', 'between', 'both', 'but', 'by', 'can', 'couldn', \"couldn't\", 'd', 'did', 'didn', \"didn't\", 'do', 'does', 'doesn', \"doesn't\", 'doing', 'don', \"don't\", 'down', 'during', 'each', 'few', 'for', 'from', 'further', 'had', 'hadn', \"hadn't\", 'has', 'hasn', \"hasn't\", 'have', 'haven', \"haven't\", 'having', 'he', \"he'd\", \"he'll\", 'her', 'here', 'hers', 'herself', \"he's\", 'him', 'himself', 'his', 'how', 'i', \"i'd\", 'if', \"i'll\", \"i'm\", 'in', 'into', 'is', 'isn', \"isn't\", 'it', \"it'd\", \"it'll\", \"it's\", 'its', 'itself', \"i've\", 'just', 'll', 'm', 'ma', 'me', 'mightn', \"mightn't\", 'more', 'most', 'mustn', \"mustn't\", 'my', 'myself', 'needn', \"needn't\", 'no', 'nor', 'not', 'now', 'o', 'of', 'off', 'on', 'once', 'only', 'or', 'other', 'our', 'ours', 'ourselves', 'out', 'over', 'own', 're', 's', 'same', 'shan', \"shan't\", 'she', \"she'd\", \"she'll\", \"she's\", 'should', 'shouldn', \"shouldn't\", \"should've\", 'so', 'some', 'such', 't', 'than', 'that', \"that'll\", 'the', 'their', 'theirs', 'them', 'themselves', 'then', 'there', 'these', 'they', \"they'd\", \"they'll\", \"they're\", \"they've\", 'this', 'those', 'through', 'to', 'too', 'under', 'until', 'up', 've', 'very', 'was', 'wasn', \"wasn't\", 'we', \"we'd\", \"we'll\", \"we're\", 'were', 'weren', \"weren't\", \"we've\", 'what', 'when', 'where', 'which', 'while', 'who', 'whom', 'why', 'will', 'with', 'won', \"won't\", 'wouldn', \"wouldn't\", 'y', 'you', \"you'd\", \"you'll\", 'your', \"you're\", 'yours', 'yourself', 'yourselves', \"you've\"]\n"
     ]
    }
   ],
   "source": [
    "print(stopwords.words(\"english\"))"
   ]
  },
  {
   "cell_type": "code",
   "execution_count": 99,
   "id": "9e0c982c-501f-4e18-9b61-98fb2ffad159",
   "metadata": {},
   "outputs": [
    {
     "name": "stderr",
     "output_type": "stream",
     "text": [
      "[nltk_data] Downloading package wordnet to C:\\Users\\Acer\n",
      "[nltk_data]     Nitro\\AppData\\Roaming\\nltk_data...\n",
      "[nltk_data] Downloading package omw-1.4 to C:\\Users\\Acer\n",
      "[nltk_data]     Nitro\\AppData\\Roaming\\nltk_data...\n"
     ]
    },
    {
     "data": {
      "text/plain": [
       "True"
      ]
     },
     "execution_count": 99,
     "metadata": {},
     "output_type": "execute_result"
    }
   ],
   "source": [
    "nltk.download('wordnet')\n",
    "nltk.download('omw-1.4')"
   ]
  },
  {
   "cell_type": "code",
   "execution_count": 103,
   "id": "539a4667-0d95-44bd-81c3-35d5fd98b66d",
   "metadata": {},
   "outputs": [
    {
     "name": "stdout",
     "output_type": "stream",
     "text": [
      "['i', 'spent', '65', 'feed', '4', 'peopl', 'i', 'normal', 'would', 'justifi', 'good', 'food', 'i', 'receiv', 'far', 'averag']\n"
     ]
    }
   ],
   "source": [
    "## Stemming \n",
    "from nltk.stem.porter import PorterStemmer\n",
    "\n",
    "# Reduce words to their stems\n",
    "stemmed = [PorterStemmer().stem(w) for w in words]\n",
    "print (stemmed)"
   ]
  },
  {
   "cell_type": "code",
   "execution_count": 105,
   "id": "1fe08821-9c6c-497f-8895-b82814c77a66",
   "metadata": {},
   "outputs": [
    {
     "name": "stdout",
     "output_type": "stream",
     "text": [
      "['I', 'spent', '65', 'feeding', '4', 'people', 'I', 'normally', 'would', 'justify', 'good', 'food', 'I', 'received', 'far', 'average']\n"
     ]
    }
   ],
   "source": [
    "## Lemmatization\n",
    "from nltk.stem.wordnet import WordNetLemmatizer\n",
    "\n",
    "##\n",
    "lemmatized= [WordNetLemmatizer().lemmatize(w) for w in words]\n",
    "print(lemmatized)\n"
   ]
  },
  {
   "cell_type": "code",
   "execution_count": 115,
   "id": "be158d3e-7cc2-44d8-a16a-9321791d8ac0",
   "metadata": {},
   "outputs": [
    {
     "name": "stderr",
     "output_type": "stream",
     "text": [
      "[nltk_data] Downloading package averaged_perceptron_tagger to\n",
      "[nltk_data]     C:\\Users\\Acer Nitro\\AppData\\Roaming\\nltk_data...\n",
      "[nltk_data]   Unzipping taggers\\averaged_perceptron_tagger.zip.\n",
      "[nltk_data] Downloading package maxent_ne_chunker to C:\\Users\\Acer\n",
      "[nltk_data]     Nitro\\AppData\\Roaming\\nltk_data...\n",
      "[nltk_data]   Package maxent_ne_chunker is already up-to-date!\n"
     ]
    },
    {
     "data": {
      "text/plain": [
       "True"
      ]
     },
     "execution_count": 115,
     "metadata": {},
     "output_type": "execute_result"
    }
   ],
   "source": [
    "nltk.download('averaged_perceptron_tagger')\n",
    "nltk.download('maxent_ne_chunker')"
   ]
  },
  {
   "cell_type": "code",
   "execution_count": 117,
   "id": "9a6c5d8a-b482-454a-9a3d-23310075c35f",
   "metadata": {},
   "outputs": [],
   "source": [
    "from nltk import pos_tag"
   ]
  },
  {
   "cell_type": "code",
   "execution_count": 119,
   "id": "bf6c7d0e-7996-4cba-8313-c8b8ae4ea818",
   "metadata": {},
   "outputs": [
    {
     "data": {
      "text/plain": [
       "[('I', 'PRP'),\n",
       " ('spent', 'VBD'),\n",
       " ('65', 'CD'),\n",
       " ('feeding', 'VBG'),\n",
       " ('4', 'CD'),\n",
       " ('people', 'NNS'),\n",
       " ('I', 'PRP'),\n",
       " ('normally', 'RB'),\n",
       " ('would', 'MD'),\n",
       " ('justify', 'VB'),\n",
       " ('good', 'JJ'),\n",
       " ('food', 'NN'),\n",
       " ('I', 'PRP'),\n",
       " ('received', 'VBD'),\n",
       " ('far', 'RB'),\n",
       " ('average', 'JJ')]"
      ]
     },
     "execution_count": 119,
     "metadata": {},
     "output_type": "execute_result"
    }
   ],
   "source": [
    "pos_tag(words)"
   ]
  },
  {
   "cell_type": "code",
   "execution_count": 123,
   "id": "e4f1bf89-b43e-4c07-8fff-e6c2e7f576b8",
   "metadata": {},
   "outputs": [
    {
     "name": "stderr",
     "output_type": "stream",
     "text": [
      "[nltk_data] Downloading package words to C:\\Users\\Acer\n",
      "[nltk_data]     Nitro\\AppData\\Roaming\\nltk_data...\n",
      "[nltk_data]   Unzipping corpora\\words.zip.\n"
     ]
    },
    {
     "data": {
      "text/plain": [
       "True"
      ]
     },
     "execution_count": 123,
     "metadata": {},
     "output_type": "execute_result"
    }
   ],
   "source": [
    "##Named entity recognition\n",
    "\n",
    "from nltk import ne_chunk\n",
    "nltk.download('words')"
   ]
  },
  {
   "cell_type": "code",
   "execution_count": 127,
   "id": "6d39bdc3-6684-4073-9ddf-55f29540b20e",
   "metadata": {},
   "outputs": [
    {
     "name": "stdout",
     "output_type": "stream",
     "text": [
      "(S\n",
      "  I/PRP\n",
      "  ordered/VBD\n",
      "  tonight/NN\n",
      "  for/IN\n",
      "  the/DT\n",
      "  first/JJ\n",
      "  time/NN\n",
      "  since/IN\n",
      "  May/NNP\n",
      "  and/CC\n",
      "  can/MD\n",
      "  ’/VB\n",
      "  t/JJ\n",
      "  get/NN\n",
      "  over/IN\n",
      "  the/DT\n",
      "  drop/NN\n",
      "  in/IN\n",
      "  quality/NN\n",
      "  and/CC\n",
      "  portion/NN\n",
      "  size/NN\n",
      "  of/IN\n",
      "  the/DT\n",
      "  food/NN\n",
      "  ./.)\n"
     ]
    }
   ],
   "source": [
    "ner_tree = ne_chunk(pos_tag(word_tokenize(seg_sentences[0])))\n",
    "print(ner_tree)"
   ]
  },
  {
   "cell_type": "code",
   "execution_count": null,
   "id": "72fbb531-119b-452a-b4d7-bf5a3fba7eec",
   "metadata": {},
   "outputs": [],
   "source": []
  }
 ],
 "metadata": {
  "kernelspec": {
   "display_name": "Python 3 (ipykernel)",
   "language": "python",
   "name": "python3"
  },
  "language_info": {
   "codemirror_mode": {
    "name": "ipython",
    "version": 3
   },
   "file_extension": ".py",
   "mimetype": "text/x-python",
   "name": "python",
   "nbconvert_exporter": "python",
   "pygments_lexer": "ipython3",
   "version": "3.12.4"
  }
 },
 "nbformat": 4,
 "nbformat_minor": 5
}
