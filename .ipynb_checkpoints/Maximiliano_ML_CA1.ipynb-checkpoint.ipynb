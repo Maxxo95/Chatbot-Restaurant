{
 "cells": [
  {
   "cell_type": "markdown",
   "id": "b758373f-7698-4879-b206-d84126f36f40",
   "metadata": {},
   "source": [
    "# Data Cleaning and Preparation"
   ]
  },
  {
   "cell_type": "code",
   "execution_count": 79,
   "id": "c80a3353-6fb0-45f8-827f-b2b381d0bcb0",
   "metadata": {},
   "outputs": [
    {
     "name": "stdout",
     "output_type": "stream",
     "text": [
      "CSV file 'chatbot_data.csv' successfully created!\n"
     ]
    }
   ],
   "source": [
    "import csv\n",
    "import re\n",
    "\n",
    "def parse_chatbot_entries(file_path, output_csv):\n",
    "    data = [] ##All data\n",
    "    entry = {} # one line\n",
    "    message_lines = [] # message\n",
    "    \n",
    "    expected_fields = [\"Name\", \"Email\", \"Location\",\"Branch\" ,\"Party Size\", \"Date\", \"Time\", \"Message\"]\n",
    "    \n",
    "    with open(file_path, 'r', encoding='utf-8') as file:\n",
    "        lines = file.readlines()\n",
    "        \n",
    "        for i, line in enumerate(lines):\n",
    "            line = line.strip()\n",
    "            ## Loop for start and finish an entry \n",
    "            if line.startswith(\"Name:\"):\n",
    "                if entry and \"Name\" in entry:  # Save only if an entry was started\n",
    "                    data.append(entry)\n",
    "                entry = {field: \"\" for field in expected_fields}  #  only expected fields \n",
    "                entry[\"Name\"] = line.replace(\"Name:\", \"\").strip() #remove the column from the data\n",
    "            elif line.startswith(\"Email:\"):\n",
    "                entry[\"Email\"] = line.replace(\"Email:\", \"\").strip()\n",
    "            elif line.startswith(\"Location:\"):\n",
    "                entry[\"Location\"] = line.replace(\"Location:\", \"\").strip()\n",
    "            elif line.startswith(\"Branch:\"):\n",
    "                entry[\"Branch\"] = line.replace(\"Branch:\", \"\").strip()    \n",
    "            elif line.startswith(\"Party Size:\"):\n",
    "                entry[\"Party Size\"] = line.replace(\"Party Size:\", \"\").strip()\n",
    "            elif line.startswith(\"Date:\"):\n",
    "                entry[\"Date\"] = line.replace(\"Date:\", \"\").strip()\n",
    "            elif line.startswith(\"Time:\"):\n",
    "                entry[\"Time\"] = line.replace(\"Time:\", \"\").strip()\n",
    "                data.append(entry)  # Save entry as all fields are processed\n",
    "                entry = {} # reset entry As time is always the last\n",
    "            elif line.startswith(\"Message:\"):        \n",
    "                message_lines = [line.replace(\"Message:\", \"\").strip()]\n",
    "            elif line == \"on\":\n",
    "                continue  # Ignore \"on\" \n",
    "            elif line == \"---\":  ## join the message when find ---\n",
    "                if message_lines: \n",
    "                    entry[\"Message\"] = \" \".join(message_lines)\n",
    "                message_lines = []  # Reset message lines\n",
    "            else:\n",
    "                if message_lines is not None: ## if not message apend \"\" the line with nothing\n",
    "                    message_lines.append(line)\n",
    "    \n",
    "    if entry and \"Name\" in entry:  # Save last entry in data \n",
    "        data.append(entry)\n",
    "    \n",
    "    # Writing to CSV\n",
    "    with open(output_csv, 'w', newline='', encoding='utf-8') as csvfile:\n",
    "        writer = csv.DictWriter(csvfile, fieldnames=expected_fields)\n",
    "        writer.writeheader()\n",
    "        writer.writerows(data)\n",
    "    \n",
    "    print(f\"CSV file '{output_csv}' successfully created!\")\n",
    "\n",
    "# Example usage:\n",
    "\n",
    "parse_chatbot_entries('mailsinfo-chatbot.txt', 'chatbot_data.csv')\n"
   ]
  },
  {
   "cell_type": "code",
   "execution_count": 77,
   "id": "01d25a4a-2516-4bed-89e1-1ff661792883",
   "metadata": {},
   "outputs": [
    {
     "name": "stdout",
     "output_type": "stream",
     "text": [
      "Modifications saved to restadded.txt\n"
     ]
    }
   ],
   "source": [
    "# Open the input and output files\n",
    "input_file = 'restaddon.txt'\n",
    "output_file = 'restadded.txt'\n",
    "\n",
    "# Read the content of the file (using UTF-8 encoding to avoid decode errors)\n",
    "with open(input_file, 'r', encoding='utf-8') as f:\n",
    "    lines = f.readlines()\n",
    "\n",
    "# Process the lines\n",
    "modified_lines = []\n",
    "for i in range(len(lines)):\n",
    "    modified_lines.append(lines[i])\n",
    "    # If a line starts with '---', add 'on' to the next line\n",
    "    if lines[i].startswith('---') and i + 1 < len(lines):\n",
    "        modified_lines.append('on\\n' + lines[i + 1])\n",
    "        i += 1\n",
    "\n",
    "# Write the modified content to a new file\n",
    "with open(output_file, 'w', encoding='utf-8') as f:\n",
    "    f.writelines(modified_lines)\n",
    "\n",
    "print(f\"Modifications saved to {output_file}\")\n"
   ]
  },
  {
   "cell_type": "code",
   "execution_count": 3,
   "id": "c7a30441-88df-4893-a3c9-f598ed1b0c65",
   "metadata": {},
   "outputs": [],
   "source": [
    "import numpy as np\n",
    "import pandas as pd\n",
    "import matplotlib.pyplot as plt\n",
    "import seaborn as sns"
   ]
  },
  {
   "cell_type": "code",
   "execution_count": 81,
   "id": "2c77a626-97de-4f71-ba5a-904a1482e182",
   "metadata": {},
   "outputs": [],
   "source": [
    "chatbot_df = pd.read_csv('chatbot_data.csv')\n"
   ]
  },
  {
   "cell_type": "code",
   "execution_count": 83,
   "id": "5ad1adbb-e02c-4e28-9608-cfec7fb5d900",
   "metadata": {},
   "outputs": [],
   "source": [
    "\n",
    "# Remove \"Woodfire and Wings\" \n",
    "chatbot_df[\"Branch\"] = chatbot_df[\"Branch\"].str.replace(\"Woodfire and Wings\", \"\", regex=False).str.strip()\n",
    "\n",
    "# Merge \"Branch\" into \"Location\" if \"Location\" \n",
    "chatbot_df[\"Location\"] = chatbot_df[\"Location\"].fillna(chatbot_df[\"Branch\"])\n",
    "\n",
    "# Drop  \"Branch\" \n",
    "chatbot_df = chatbot_df.drop(columns=[\"Branch\"])\n",
    "\n",
    "\n",
    "\n"
   ]
  },
  {
   "cell_type": "code",
   "execution_count": 85,
   "id": "9b50d5dd-1b31-41d2-a74e-5514fbf9c358",
   "metadata": {},
   "outputs": [
    {
     "data": {
      "text/html": [
       "<div>\n",
       "<style scoped>\n",
       "    .dataframe tbody tr th:only-of-type {\n",
       "        vertical-align: middle;\n",
       "    }\n",
       "\n",
       "    .dataframe tbody tr th {\n",
       "        vertical-align: top;\n",
       "    }\n",
       "\n",
       "    .dataframe thead th {\n",
       "        text-align: right;\n",
       "    }\n",
       "</style>\n",
       "<table border=\"1\" class=\"dataframe\">\n",
       "  <thead>\n",
       "    <tr style=\"text-align: right;\">\n",
       "      <th></th>\n",
       "      <th>Name</th>\n",
       "      <th>Email</th>\n",
       "      <th>Location</th>\n",
       "      <th>Party Size</th>\n",
       "      <th>Date</th>\n",
       "      <th>Time</th>\n",
       "      <th>Message</th>\n",
       "    </tr>\n",
       "  </thead>\n",
       "  <tbody>\n",
       "    <tr>\n",
       "      <th>0</th>\n",
       "      <td>Joe Barcoe</td>\n",
       "      <td>jobarcoe@gmail.com</td>\n",
       "      <td>Stillorgan</td>\n",
       "      <td>30.0</td>\n",
       "      <td>March 11, 2025</td>\n",
       "      <td>07:56 PM</td>\n",
       "      <td>Hi, I hope you are having a lovely week so far...</td>\n",
       "    </tr>\n",
       "    <tr>\n",
       "      <th>1</th>\n",
       "      <td>Katherine Beirne</td>\n",
       "      <td>Katherineb19@gmail.com</td>\n",
       "      <td>Clondalkin</td>\n",
       "      <td>NaN</td>\n",
       "      <td>March 22, 2025</td>\n",
       "      <td>01:57 PM</td>\n",
       "      <td>Could we get a wee dessert with a sparkler aft...</td>\n",
       "    </tr>\n",
       "    <tr>\n",
       "      <th>2</th>\n",
       "      <td>Roxanne vella</td>\n",
       "      <td>boxey12@gmail.com</td>\n",
       "      <td>Stillorgan</td>\n",
       "      <td>NaN</td>\n",
       "      <td>March 10, 2025</td>\n",
       "      <td>04:46 PM</td>\n",
       "      <td>Hi just wondering would the restaurant be able...</td>\n",
       "    </tr>\n",
       "    <tr>\n",
       "      <th>3</th>\n",
       "      <td>Andrew Wade</td>\n",
       "      <td>Andy.f.wade@gmail.com</td>\n",
       "      <td>Clondalkin</td>\n",
       "      <td>NaN</td>\n",
       "      <td>March 17, 2025</td>\n",
       "      <td>11:06 AM</td>\n",
       "      <td>Hi There, Myself and my wife (Liz Wade 086 842...</td>\n",
       "    </tr>\n",
       "    <tr>\n",
       "      <th>4</th>\n",
       "      <td>Michele O'Riordan</td>\n",
       "      <td>shell.oriordan@gmail.com</td>\n",
       "      <td>Stillorgan</td>\n",
       "      <td>NaN</td>\n",
       "      <td>March 9, 2025</td>\n",
       "      <td>03:51 PM</td>\n",
       "      <td>Hi, I think I placed a booking this morning fo...</td>\n",
       "    </tr>\n",
       "    <tr>\n",
       "      <th>...</th>\n",
       "      <td>...</td>\n",
       "      <td>...</td>\n",
       "      <td>...</td>\n",
       "      <td>...</td>\n",
       "      <td>...</td>\n",
       "      <td>...</td>\n",
       "      <td>...</td>\n",
       "    </tr>\n",
       "    <tr>\n",
       "      <th>700</th>\n",
       "      <td>Laura Dungan</td>\n",
       "      <td>laura.dungan@pwc.com</td>\n",
       "      <td>NaN</td>\n",
       "      <td>NaN</td>\n",
       "      <td>February 21, 2023</td>\n",
       "      <td>03:41 PM</td>\n",
       "      <td>Hi there,  I hope you're well. I'm helping org...</td>\n",
       "    </tr>\n",
       "    <tr>\n",
       "      <th>701</th>\n",
       "      <td>Ashley Duffy</td>\n",
       "      <td>ashleyduffygibson@gmail.com</td>\n",
       "      <td>NaN</td>\n",
       "      <td>NaN</td>\n",
       "      <td>March 1, 2023</td>\n",
       "      <td>11:07 AM</td>\n",
       "      <td>Hi I'm having my sons 12 birthday at kylemore ...</td>\n",
       "    </tr>\n",
       "    <tr>\n",
       "      <th>702</th>\n",
       "      <td>Adam kealy</td>\n",
       "      <td>kealyadam@gmail.com</td>\n",
       "      <td>NaN</td>\n",
       "      <td>NaN</td>\n",
       "      <td>March 1, 2023</td>\n",
       "      <td>09:48 PM</td>\n",
       "      <td>Hi  I've ordered my 10th order and have not re...</td>\n",
       "    </tr>\n",
       "    <tr>\n",
       "      <th>703</th>\n",
       "      <td>Shauna Freeman</td>\n",
       "      <td>shaunafreeman9@icloud.com</td>\n",
       "      <td>NaN</td>\n",
       "      <td>NaN</td>\n",
       "      <td>March 3, 2023</td>\n",
       "      <td>01:42 PM</td>\n",
       "      <td>To whom it may concern, I was wondering if I c...</td>\n",
       "    </tr>\n",
       "    <tr>\n",
       "      <th>704</th>\n",
       "      <td>Nofar Lapidot</td>\n",
       "      <td>nlapidot@google.com</td>\n",
       "      <td>Clondalkin</td>\n",
       "      <td>25.0</td>\n",
       "      <td>November 28, 2023</td>\n",
       "      <td>08:20 PM</td>\n",
       "      <td>Looking to order snacks for our event at kylem...</td>\n",
       "    </tr>\n",
       "  </tbody>\n",
       "</table>\n",
       "<p>705 rows × 7 columns</p>\n",
       "</div>"
      ],
      "text/plain": [
       "                  Name                        Email    Location  Party Size  \\\n",
       "0           Joe Barcoe           jobarcoe@gmail.com  Stillorgan        30.0   \n",
       "1     Katherine Beirne       Katherineb19@gmail.com  Clondalkin         NaN   \n",
       "2        Roxanne vella            boxey12@gmail.com  Stillorgan         NaN   \n",
       "3          Andrew Wade        Andy.f.wade@gmail.com  Clondalkin         NaN   \n",
       "4    Michele O'Riordan     shell.oriordan@gmail.com  Stillorgan         NaN   \n",
       "..                 ...                          ...         ...         ...   \n",
       "700       Laura Dungan         laura.dungan@pwc.com         NaN         NaN   \n",
       "701       Ashley Duffy  ashleyduffygibson@gmail.com         NaN         NaN   \n",
       "702         Adam kealy          kealyadam@gmail.com         NaN         NaN   \n",
       "703     Shauna Freeman    shaunafreeman9@icloud.com         NaN         NaN   \n",
       "704      Nofar Lapidot          nlapidot@google.com  Clondalkin        25.0   \n",
       "\n",
       "                  Date      Time  \\\n",
       "0       March 11, 2025  07:56 PM   \n",
       "1       March 22, 2025  01:57 PM   \n",
       "2       March 10, 2025  04:46 PM   \n",
       "3       March 17, 2025  11:06 AM   \n",
       "4        March 9, 2025  03:51 PM   \n",
       "..                 ...       ...   \n",
       "700  February 21, 2023  03:41 PM   \n",
       "701      March 1, 2023  11:07 AM   \n",
       "702      March 1, 2023  09:48 PM   \n",
       "703      March 3, 2023  01:42 PM   \n",
       "704  November 28, 2023  08:20 PM   \n",
       "\n",
       "                                               Message  \n",
       "0    Hi, I hope you are having a lovely week so far...  \n",
       "1    Could we get a wee dessert with a sparkler aft...  \n",
       "2    Hi just wondering would the restaurant be able...  \n",
       "3    Hi There, Myself and my wife (Liz Wade 086 842...  \n",
       "4    Hi, I think I placed a booking this morning fo...  \n",
       "..                                                 ...  \n",
       "700  Hi there,  I hope you're well. I'm helping org...  \n",
       "701  Hi I'm having my sons 12 birthday at kylemore ...  \n",
       "702  Hi  I've ordered my 10th order and have not re...  \n",
       "703  To whom it may concern, I was wondering if I c...  \n",
       "704  Looking to order snacks for our event at kylem...  \n",
       "\n",
       "[705 rows x 7 columns]"
      ]
     },
     "execution_count": 85,
     "metadata": {},
     "output_type": "execute_result"
    }
   ],
   "source": [
    "\n",
    "\n",
    "\n",
    "#  'Time' to datetime format\n",
    "chatbot_df[\"Time\"] = pd.to_datetime(chatbot_df[\"Time\"], format=\"%I:%M %p\", errors='coerce')\n",
    "\n",
    "\n",
    "valid_times = chatbot_df.loc[81:, \"Time\"].dropna()\n",
    "\n",
    "# Randomly assign times\n",
    "chatbot_df.loc[:79, \"Time\"] = np.random.choice(valid_times, size=80, replace=True)\n",
    "\n",
    "# Convert back \n",
    "chatbot_df[\"Time\"] = chatbot_df[\"Time\"].dt.strftime(\"%I:%M %p\")\n",
    "\n",
    "chatbot_df.to_csv('chatbot_data_cleaned.csv', index=False)\n",
    "chatbot_df\n",
    "\n"
   ]
  },
  {
   "cell_type": "markdown",
   "id": "72e39a71-0592-46df-b5d9-cc383ecc71dd",
   "metadata": {},
   "source": [
    "# Exploratory Data Analysis "
   ]
  },
  {
   "cell_type": "code",
   "execution_count": 87,
   "id": "38c97756-ac0e-4f60-9b88-85229e5c5dd4",
   "metadata": {},
   "outputs": [
    {
     "data": {
      "text/plain": [
       "<seaborn.axisgrid.FacetGrid at 0x20b288c48f0>"
      ]
     },
     "execution_count": 87,
     "metadata": {},
     "output_type": "execute_result"
    },
    {
     "data": {
      "image/png": "[encoded data removed]",
      "text/plain": [
       "<Figure size 500x500 with 1 Axes>"
      ]
     },
     "metadata": {},
     "output_type": "display_data"
    }
   ],
   "source": [
    "sns.displot(chatbot_df['Location'])"
   ]
  },
  {
   "cell_type": "code",
   "execution_count": 89,
   "id": "d17f27d6-8bb8-4642-9184-6232b2cceedd",
   "metadata": {},
   "outputs": [],
   "source": [
    "chatbot_df = pd.read_csv('chatbot_data_cleaned.csv')\n",
    "chatbot_df[\"Time\"] = pd.to_datetime(chatbot_df[\"Time\"], format=\"%I:%M %p\", errors='coerce')\n",
    "chatbot_df[\"Time\"] = chatbot_df[\"Time\"].dt.strftime(\"%I:%M %p\")\n"
   ]
  },
  {
   "cell_type": "code",
   "execution_count": 91,
   "id": "956fecc9-060b-4176-a096-d03be00ee591",
   "metadata": {},
   "outputs": [
    {
     "data": {
      "text/html": [
       "<div>\n",
       "<style scoped>\n",
       "    .dataframe tbody tr th:only-of-type {\n",
       "        vertical-align: middle;\n",
       "    }\n",
       "\n",
       "    .dataframe tbody tr th {\n",
       "        vertical-align: top;\n",
       "    }\n",
       "\n",
       "    .dataframe thead th {\n",
       "        text-align: right;\n",
       "    }\n",
       "</style>\n",
       "<table border=\"1\" class=\"dataframe\">\n",
       "  <thead>\n",
       "    <tr style=\"text-align: right;\">\n",
       "      <th></th>\n",
       "      <th>Name</th>\n",
       "      <th>Email</th>\n",
       "      <th>Location</th>\n",
       "      <th>Party Size</th>\n",
       "      <th>Date</th>\n",
       "      <th>Time</th>\n",
       "      <th>Message</th>\n",
       "    </tr>\n",
       "  </thead>\n",
       "  <tbody>\n",
       "    <tr>\n",
       "      <th>0</th>\n",
       "      <td>Joe Barcoe</td>\n",
       "      <td>jobarcoe@gmail.com</td>\n",
       "      <td>Stillorgan</td>\n",
       "      <td>30.0</td>\n",
       "      <td>March 11, 2025</td>\n",
       "      <td>07:56 PM</td>\n",
       "      <td>Hi, I hope you are having a lovely week so far...</td>\n",
       "    </tr>\n",
       "    <tr>\n",
       "      <th>1</th>\n",
       "      <td>Katherine Beirne</td>\n",
       "      <td>Katherineb19@gmail.com</td>\n",
       "      <td>Clondalkin</td>\n",
       "      <td>NaN</td>\n",
       "      <td>March 22, 2025</td>\n",
       "      <td>01:57 PM</td>\n",
       "      <td>Could we get a wee dessert with a sparkler aft...</td>\n",
       "    </tr>\n",
       "    <tr>\n",
       "      <th>2</th>\n",
       "      <td>Roxanne vella</td>\n",
       "      <td>boxey12@gmail.com</td>\n",
       "      <td>Stillorgan</td>\n",
       "      <td>NaN</td>\n",
       "      <td>March 10, 2025</td>\n",
       "      <td>04:46 PM</td>\n",
       "      <td>Hi just wondering would the restaurant be able...</td>\n",
       "    </tr>\n",
       "    <tr>\n",
       "      <th>3</th>\n",
       "      <td>Andrew Wade</td>\n",
       "      <td>Andy.f.wade@gmail.com</td>\n",
       "      <td>Clondalkin</td>\n",
       "      <td>NaN</td>\n",
       "      <td>March 17, 2025</td>\n",
       "      <td>11:06 AM</td>\n",
       "      <td>Hi There, Myself and my wife (Liz Wade 086 842...</td>\n",
       "    </tr>\n",
       "    <tr>\n",
       "      <th>4</th>\n",
       "      <td>Michele O'Riordan</td>\n",
       "      <td>shell.oriordan@gmail.com</td>\n",
       "      <td>Stillorgan</td>\n",
       "      <td>NaN</td>\n",
       "      <td>March 9, 2025</td>\n",
       "      <td>03:51 PM</td>\n",
       "      <td>Hi, I think I placed a booking this morning fo...</td>\n",
       "    </tr>\n",
       "    <tr>\n",
       "      <th>...</th>\n",
       "      <td>...</td>\n",
       "      <td>...</td>\n",
       "      <td>...</td>\n",
       "      <td>...</td>\n",
       "      <td>...</td>\n",
       "      <td>...</td>\n",
       "      <td>...</td>\n",
       "    </tr>\n",
       "    <tr>\n",
       "      <th>700</th>\n",
       "      <td>Laura Dungan</td>\n",
       "      <td>laura.dungan@pwc.com</td>\n",
       "      <td>NaN</td>\n",
       "      <td>NaN</td>\n",
       "      <td>February 21, 2023</td>\n",
       "      <td>03:41 PM</td>\n",
       "      <td>Hi there,  I hope you're well. I'm helping org...</td>\n",
       "    </tr>\n",
       "    <tr>\n",
       "      <th>701</th>\n",
       "      <td>Ashley Duffy</td>\n",
       "      <td>ashleyduffygibson@gmail.com</td>\n",
       "      <td>NaN</td>\n",
       "      <td>NaN</td>\n",
       "      <td>March 1, 2023</td>\n",
       "      <td>11:07 AM</td>\n",
       "      <td>Hi I'm having my sons 12 birthday at kylemore ...</td>\n",
       "    </tr>\n",
       "    <tr>\n",
       "      <th>702</th>\n",
       "      <td>Adam kealy</td>\n",
       "      <td>kealyadam@gmail.com</td>\n",
       "      <td>NaN</td>\n",
       "      <td>NaN</td>\n",
       "      <td>March 1, 2023</td>\n",
       "      <td>09:48 PM</td>\n",
       "      <td>Hi  I've ordered my 10th order and have not re...</td>\n",
       "    </tr>\n",
       "    <tr>\n",
       "      <th>703</th>\n",
       "      <td>Shauna Freeman</td>\n",
       "      <td>shaunafreeman9@icloud.com</td>\n",
       "      <td>NaN</td>\n",
       "      <td>NaN</td>\n",
       "      <td>March 3, 2023</td>\n",
       "      <td>01:42 PM</td>\n",
       "      <td>To whom it may concern, I was wondering if I c...</td>\n",
       "    </tr>\n",
       "    <tr>\n",
       "      <th>704</th>\n",
       "      <td>Nofar Lapidot</td>\n",
       "      <td>nlapidot@google.com</td>\n",
       "      <td>Clondalkin</td>\n",
       "      <td>25.0</td>\n",
       "      <td>November 28, 2023</td>\n",
       "      <td>08:20 PM</td>\n",
       "      <td>Looking to order snacks for our event at kylem...</td>\n",
       "    </tr>\n",
       "  </tbody>\n",
       "</table>\n",
       "<p>705 rows × 7 columns</p>\n",
       "</div>"
      ],
      "text/plain": [
       "                  Name                        Email    Location  Party Size  \\\n",
       "0           Joe Barcoe           jobarcoe@gmail.com  Stillorgan        30.0   \n",
       "1     Katherine Beirne       Katherineb19@gmail.com  Clondalkin         NaN   \n",
       "2        Roxanne vella            boxey12@gmail.com  Stillorgan         NaN   \n",
       "3          Andrew Wade        Andy.f.wade@gmail.com  Clondalkin         NaN   \n",
       "4    Michele O'Riordan     shell.oriordan@gmail.com  Stillorgan         NaN   \n",
       "..                 ...                          ...         ...         ...   \n",
       "700       Laura Dungan         laura.dungan@pwc.com         NaN         NaN   \n",
       "701       Ashley Duffy  ashleyduffygibson@gmail.com         NaN         NaN   \n",
       "702         Adam kealy          kealyadam@gmail.com         NaN         NaN   \n",
       "703     Shauna Freeman    shaunafreeman9@icloud.com         NaN         NaN   \n",
       "704      Nofar Lapidot          nlapidot@google.com  Clondalkin        25.0   \n",
       "\n",
       "                  Date      Time  \\\n",
       "0       March 11, 2025  07:56 PM   \n",
       "1       March 22, 2025  01:57 PM   \n",
       "2       March 10, 2025  04:46 PM   \n",
       "3       March 17, 2025  11:06 AM   \n",
       "4        March 9, 2025  03:51 PM   \n",
       "..                 ...       ...   \n",
       "700  February 21, 2023  03:41 PM   \n",
       "701      March 1, 2023  11:07 AM   \n",
       "702      March 1, 2023  09:48 PM   \n",
       "703      March 3, 2023  01:42 PM   \n",
       "704  November 28, 2023  08:20 PM   \n",
       "\n",
       "                                               Message  \n",
       "0    Hi, I hope you are having a lovely week so far...  \n",
       "1    Could we get a wee dessert with a sparkler aft...  \n",
       "2    Hi just wondering would the restaurant be able...  \n",
       "3    Hi There, Myself and my wife (Liz Wade 086 842...  \n",
       "4    Hi, I think I placed a booking this morning fo...  \n",
       "..                                                 ...  \n",
       "700  Hi there,  I hope you're well. I'm helping org...  \n",
       "701  Hi I'm having my sons 12 birthday at kylemore ...  \n",
       "702  Hi  I've ordered my 10th order and have not re...  \n",
       "703  To whom it may concern, I was wondering if I c...  \n",
       "704  Looking to order snacks for our event at kylem...  \n",
       "\n",
       "[705 rows x 7 columns]"
      ]
     },
     "execution_count": 91,
     "metadata": {},
     "output_type": "execute_result"
    }
   ],
   "source": [
    "chatbot_df"
   ]
  },
  {
   "cell_type": "code",
   "execution_count": 93,
   "id": "388e0631-a94d-4fe3-9270-082d8eec5f64",
   "metadata": {},
   "outputs": [
    {
     "data": {
      "image/png": "[encoded data removed]",
      "text/plain": [
       "<Figure size 800x500 with 1 Axes>"
      ]
     },
     "metadata": {},
     "output_type": "display_data"
    }
   ],
   "source": [
    "import seaborn as sns\n",
    "import matplotlib.pyplot as plt\n",
    "import pandas as pd\n",
    "\n",
    "# format 24 hours\n",
    "chatbot_df[\"Time\"] = pd.to_datetime(chatbot_df[\"Time\"], format=\"%I:%M %p\", errors='coerce')\n",
    "chatbot_df[\"Time\"] = chatbot_df[\"Time\"].dt.hour  # Extract only the hour (0-23)\n",
    "\n",
    "# Plot the KDE distribution\n",
    "plt.figure(figsize=(8, 5))\n",
    "sns.kdeplot(chatbot_df['Time'], fill=True)\n",
    "\n",
    "\n",
    "plt.xticks(range(0, 25, 3)) \n",
    "plt.xlabel(\"Time (24-hour format)\")\n",
    "plt.ylabel(\"Density\")\n",
    "plt.title(\"Enquiry Time Distribution\")\n",
    "\n",
    "plt.show()\n"
   ]
  },
  {
   "cell_type": "code",
   "execution_count": 95,
   "id": "4619f47f-0863-49cf-b954-95ef3326fd0d",
   "metadata": {},
   "outputs": [
    {
     "data": {
      "text/plain": [
       "<Figure size 1200x600 with 0 Axes>"
      ]
     },
     "metadata": {},
     "output_type": "display_data"
    },
    {
     "data": {
      "image/png": "[encoded data removed]",
      "text/plain": [
       "<Figure size 1200x600 with 1 Axes>"
      ]
     },
     "metadata": {},
     "output_type": "display_data"
    }
   ],
   "source": [
    "import pandas as pd\n",
    "import matplotlib.pyplot as plt\n",
    "import seaborn as sns\n",
    "import calendar\n",
    "\n",
    "\n",
    "chatbot_df[\"Date\"] = pd.to_datetime(chatbot_df[\"Date\"], errors=\"coerce\")\n",
    "\n",
    "# Extract Year, Month, Day, and Weekday\n",
    "chatbot_df[\"Year\"] = chatbot_df[\"Date\"].dt.year\n",
    "chatbot_df[\"Month\"] = chatbot_df[\"Date\"].dt.month\n",
    "chatbot_df[\"Day\"] = chatbot_df[\"Date\"].dt.day\n",
    "chatbot_df[\"Weekday\"] = chatbot_df[\"Date\"].dt.day_name()  # Get full weekday name\n",
    "\n",
    "# Convert Month number to Month name \n",
    "chatbot_df[\"Month\"] = chatbot_df[\"Month\"].fillna(0).astype(int)\n",
    "chatbot_df[\"Month\"] = chatbot_df[\"Month\"].apply(lambda x: calendar.month_name[x])\n",
    "\n",
    "# Group by Month and Location, and count the number of enquiries for each combination\n",
    "monthly_counts = chatbot_df.groupby([\"Month\", \"Location\"]).size().reset_index(name=\"EnquiryCount\")\n",
    "\n",
    "# Pivot the table to have a count of enquiries per month and location\n",
    "monthly_counts_pivot = monthly_counts.pivot_table(index=\"Month\", columns=\"Location\", values=\"EnquiryCount\", aggfunc=\"sum\", fill_value=0)\n",
    "\n",
    "# Plotting a Stacked Bar Plot \n",
    "plt.figure(figsize=(12, 6))\n",
    "monthly_counts_pivot.plot(kind=\"bar\", stacked=True, figsize=(12, 6))\n",
    "\n",
    "# \n",
    "plt.xticks(rotation=45)\n",
    "plt.xlabel(\"Month\")\n",
    "plt.ylabel(\"Number of Enquiries\")\n",
    "plt.title(\"Monthly Distribution of  Enquiries by Location\")\n",
    "plt.legend(title=\"Location\", loc=\"upper right\")\n",
    "\n",
    "plt.show()\n"
   ]
  },
  {
   "cell_type": "code",
   "execution_count": 69,
   "id": "65752cf1-80f7-4586-a84a-1f5878ea74bf",
   "metadata": {},
   "outputs": [
    {
     "name": "stderr",
     "output_type": "stream",
     "text": [
      "C:\\Users\\Acer Nitro\\AppData\\Local\\Temp\\ipykernel_31044\\1459805333.py:8: FutureWarning: The default value of observed=False is deprecated and will change to observed=True in a future version of pandas. Specify observed=False to silence this warning and retain the current behavior\n",
      "  weekday_counts_pivot = weekday_counts.pivot_table(index=\"Weekday\", columns=\"Location\", values=\"EnquiryCount\", aggfunc=\"sum\", fill_value=0)\n"
     ]
    },
    {
     "data": {
      "text/plain": [
       "<Figure size 1200x600 with 0 Axes>"
      ]
     },
     "metadata": {},
     "output_type": "display_data"
    },
    {
     "data": {
      "image/png": "[encoded data removed]",
      "text/plain": [
       "<Figure size 1200x600 with 1 Axes>"
      ]
     },
     "metadata": {},
     "output_type": "display_data"
    }
   ],
   "source": [
    "weekday_counts = chatbot_df.groupby([\"Weekday\", \"Location\"]).size().reset_index(name=\"EnquiryCount\")\n",
    "\n",
    "\n",
    "weekday_order = ['Monday', 'Tuesday', 'Wednesday', 'Thursday', 'Friday', 'Saturday', 'Sunday']\n",
    "weekday_counts[\"Weekday\"] = pd.Categorical(weekday_counts[\"Weekday\"], categories=weekday_order, ordered=True)\n",
    "\n",
    "# Pivot the table to have a count of enquiries per weekday and location\n",
    "weekday_counts_pivot = weekday_counts.pivot_table(index=\"Weekday\", columns=\"Location\", values=\"EnquiryCount\", aggfunc=\"sum\", fill_value=0)\n",
    "\n",
    "# Stacked bar\n",
    "plt.figure(figsize=(12, 6))\n",
    "weekday_counts_pivot.plot(kind=\"bar\", stacked=True, figsize=(12, 6))\n",
    "\n",
    "plt.xticks(rotation=45)\n",
    "plt.xlabel(\"Weekday\")\n",
    "plt.ylabel(\"Number of Enquiries\")\n",
    "plt.title(\"Weekly Distribution of Chatbot Enquiries by Location\")\n",
    "plt.legend(title=\"Location\", loc=\"upper right\")\n",
    "\n",
    "plt.show()"
   ]
  },
  {
   "cell_type": "code",
   "execution_count": 97,
   "id": "5863dcb2-221a-462f-bb1a-e4844801d552",
   "metadata": {},
   "outputs": [
    {
     "name": "stdout",
     "output_type": "stream",
     "text": [
      "                           Email  Occurrences\n",
      "0         margiekerins@gmail.com            5\n",
      "1          keith.jago@pfizer.com            3\n",
      "2        deangilmore89@gmail.com            3\n",
      "3        edeloconnor75@gmail.com            3\n",
      "4       carinadownes36@gmail.com            3\n",
      "5             stacyquinn@live.ie            3\n",
      "6         chapmanjohnw@gmail.com            3\n",
      "7    michellewallace73@gmail.com            3\n",
      "8       andreagannon15@gmail.com            2\n",
      "9         alannaghmcm2@gmail.com            2\n",
      "10        andrea.neary@gmail.com            2\n",
      "11        helennorth71@gmail.com            2\n",
      "12       applehannah21@gmail.com            2\n",
      "13       susualihassan@gmail.com            2\n",
      "14    eimearwhelan1505@gmail.com            2\n",
      "15      niamhyscully@yahoo.co.uk            2\n",
      "16    fionnankennedy@yahoo.co.uk            2\n",
      "17      colinmcanaspie@gmail.com            2\n",
      "18       kelvinoko2000@gmail.com            2\n",
      "19           awheatley@nissan.ie            2\n",
      "20           nlapidot@google.com            2\n",
      "21       gilly.andorra@gmail.com            2\n",
      "22         info@trojanacademy.ie            2\n",
      "23         aranfagan@hotmail.com            2\n",
      "24   roisin.ohuadhaigh@gmail.com            2\n",
      "25          patlcullen@gmail.com            2\n",
      "26   fionamurphy.fagan@gmail.com            2\n",
      "27    Arlenekavanagh@yahoo.co.uk            2\n",
      "28        nicolnewsome@gmail.com            2\n",
      "29    sean.langan@dublinmaths.ie            2\n",
      "30         anitak158@hotmail.com            2\n",
      "31          Sjscully@yahoo.co.uk            2\n",
      "32         aoifemurph7@gmail.com            2\n",
      "33        jenniferg977@gmail.com            2\n",
      "34        orlaogrady80@gmail.com            2\n",
      "35  michellem.fitzpatrick@rte.ie            2\n",
      "36                giller@live.ie            2\n",
      "37           clara.mooney@rte.ie            2\n",
      "38         jsmithjen@outlook.com            2\n",
      "39        Katherineb19@gmail.com            2\n",
      "40        ayshibijoy04@gmail.com            2\n",
      "41                R.Jain@sisk.ie            2\n",
      "42     eimspillage00@hotmail.com            2\n",
      "43           seanin@ocochlain.ie            2\n",
      "44      hollydavies715@gmail.com            2\n",
      "45       rachelbrady93@gmail.com            2\n",
      "46    mayres@spiritmotorgroup.ie            2\n",
      "47         garymurray1@gmail.com            2\n",
      "48     cherylwilson151@gmail.com            2\n",
      "49         conor.flanagan@rte.ie            2\n",
      "50               carrolne@tcd.ie            2\n",
      "51      rachelannepat1@gmail.com            2\n"
     ]
    }
   ],
   "source": [
    "\n",
    "# Count \n",
    "email_counts = chatbot_df['Email'].value_counts()\n",
    "\n",
    "# Filter for emails appereance\n",
    "recurrent_clients = email_counts[email_counts >= 2]\n",
    "\n",
    "# Create a DataFrame \n",
    "recurrent_clients_df = pd.DataFrame(recurrent_clients).reset_index()\n",
    "recurrent_clients_df.columns = ['Email', 'Occurrences']\n",
    "\n",
    "# csv\n",
    "recurrent_clients_df.to_csv('recurrent_clients.csv', index=False)\n",
    "\n",
    "print(recurrent_clients_df)\n"
   ]
  },
  {
   "cell_type": "markdown",
   "id": "4c61b189-1227-4b27-a471-5d77a3cfad52",
   "metadata": {},
   "source": [
    "# NLP"
   ]
  },
  {
   "cell_type": "markdown",
   "id": "08b662c8-d7fe-4aef-a3ab-e053a900e18b",
   "metadata": {},
   "source": [
    "### NLTK Tutorial"
   ]
  },
  {
   "cell_type": "code",
   "execution_count": 17,
   "id": "c5348be3-100a-4a56-b4aa-1b55dffcfbf4",
   "metadata": {},
   "outputs": [],
   "source": [
    "text = \"I ordered tonight for the first time since May and can’t get over the drop in quality and portion size of the food. I spent €65 feeding 4 people which I normally would justify for good food but what I received was far below average. Feel free to contact me about this disappointing order\""
   ]
  },
  {
   "cell_type": "code",
   "execution_count": null,
   "id": "9f4a2a03-c40f-4aed-aa3d-f0bc6a697bc2",
   "metadata": {},
   "outputs": [],
   "source": [
    "import nltk \n",
    "nltk.download('punkt')\n",
    "from nltk.tokenize import sent_tokenize\n"
   ]
  },
  {
   "cell_type": "markdown",
   "id": "9c2702de-4d35-45b2-a25d-07a476936754",
   "metadata": {},
   "source": [
    "\n",
    "\n",
    "#### NLTK library for NLP \n",
    "#### Segmentation\n",
    "#### Tokenizing\n",
    "#### Stop words\n",
    "#### Stemming \n",
    "#### Lemmatization\n",
    "#### Speech Tagging\n",
    "#### Named Entity Tagging\n",
    "#### Reference : https://www.youtube.com/watch?v=MpIagClRELI"
   ]
  },
  {
   "cell_type": "code",
   "execution_count": 22,
   "id": "2fcc2115-2dc6-46dc-aac4-d506a5d8ae0f",
   "metadata": {},
   "outputs": [
    {
     "data": {
      "text/plain": [
       "['I ordered tonight for the first time since May and can’t get over the drop in quality and portion size of the food.',\n",
       " 'I spent €65 feeding 4 people which I normally would justify for good food but what I received was far below average.',\n",
       " 'Feel free to contact me about this disappointing order']"
      ]
     },
     "execution_count": 22,
     "metadata": {},
     "output_type": "execute_result"
    }
   ],
   "source": [
    "#Segmentation\n",
    "seg_sentences = sent_tokenize(text)\n",
    "seg_sentences"
   ]
  },
  {
   "cell_type": "code",
   "execution_count": 79,
   "id": "7c449e7a-b9ae-482e-90b8-6204d5509b8c",
   "metadata": {},
   "outputs": [
    {
     "data": {
      "text/plain": [
       "'I spent €65 feeding 4 people which I normally would justify for good food but what I received was far below average.'"
      ]
     },
     "execution_count": 79,
     "metadata": {},
     "output_type": "execute_result"
    }
   ],
   "source": [
    "seg_sentences[1]"
   ]
  },
  {
   "cell_type": "code",
   "execution_count": 85,
   "id": "f09b063a-3dbe-4a40-8ca3-95eb146cede8",
   "metadata": {},
   "outputs": [
    {
     "data": {
      "text/plain": [
       "'I spent  65 feeding 4 people which I normally would justify for good food but what I received was far below average '"
      ]
     },
     "execution_count": 85,
     "metadata": {},
     "output_type": "execute_result"
    }
   ],
   "source": [
    "text = re.sub(r\"[^a-zA-Z0-9]\", \" \", seg_sentences[1])\n",
    "text"
   ]
  },
  {
   "cell_type": "code",
   "execution_count": 87,
   "id": "01cfde85-2219-41f8-b7cd-1fc961c92588",
   "metadata": {},
   "outputs": [],
   "source": [
    "# Tokenizing\n",
    "from nltk.tokenize import word_tokenize\n"
   ]
  },
  {
   "cell_type": "code",
   "execution_count": 89,
   "id": "533a59a8-550f-494e-b171-4399554ed25a",
   "metadata": {},
   "outputs": [
    {
     "name": "stdout",
     "output_type": "stream",
     "text": [
      "['I', 'spent', '65', 'feeding', '4', 'people', 'which', 'I', 'normally', 'would', 'justify', 'for', 'good', 'food', 'but', 'what', 'I', 'received', 'was', 'far', 'below', 'average']\n"
     ]
    }
   ],
   "source": [
    "words = word_tokenize(text)\n",
    "print (words)"
   ]
  },
  {
   "cell_type": "code",
   "execution_count": 91,
   "id": "fe3131d3-5515-47fb-b6d9-68fa0b3aaa6e",
   "metadata": {},
   "outputs": [
    {
     "name": "stderr",
     "output_type": "stream",
     "text": [
      "[nltk_data] Downloading package stopwords to C:\\Users\\Acer\n",
      "[nltk_data]     Nitro\\AppData\\Roaming\\nltk_data...\n",
      "[nltk_data]   Unzipping corpora\\stopwords.zip.\n"
     ]
    }
   ],
   "source": [
    "#### Removal of Stop words\n",
    "nltk.download('stopwords')\n",
    "from nltk.corpus import stopwords"
   ]
  },
  {
   "cell_type": "code",
   "execution_count": 93,
   "id": "4cc00bdf-2245-4f1c-857d-535ef12f2cf6",
   "metadata": {},
   "outputs": [
    {
     "name": "stdout",
     "output_type": "stream",
     "text": [
      "['I', 'spent', '65', 'feeding', '4', 'people', 'I', 'normally', 'would', 'justify', 'good', 'food', 'I', 'received', 'far', 'average']\n"
     ]
    }
   ],
   "source": [
    "words = [w for w in words if w not in stopwords.words(\"english\")]\n",
    "print (words)"
   ]
  },
  {
   "cell_type": "code",
   "execution_count": 97,
   "id": "ba3cefea-af51-40ae-ba0e-e44f9d518e42",
   "metadata": {},
   "outputs": [
    {
     "name": "stdout",
     "output_type": "stream",
     "text": [
      "['a', 'about', 'above', 'after', 'again', 'against', 'ain', 'all', 'am', 'an', 'and', 'any', 'are', 'aren', \"aren't\", 'as', 'at', 'be', 'because', 'been', 'before', 'being', 'below', 'between', 'both', 'but', 'by', 'can', 'couldn', \"couldn't\", 'd', 'did', 'didn', \"didn't\", 'do', 'does', 'doesn', \"doesn't\", 'doing', 'don', \"don't\", 'down', 'during', 'each', 'few', 'for', 'from', 'further', 'had', 'hadn', \"hadn't\", 'has', 'hasn', \"hasn't\", 'have', 'haven', \"haven't\", 'having', 'he', \"he'd\", \"he'll\", 'her', 'here', 'hers', 'herself', \"he's\", 'him', 'himself', 'his', 'how', 'i', \"i'd\", 'if', \"i'll\", \"i'm\", 'in', 'into', 'is', 'isn', \"isn't\", 'it', \"it'd\", \"it'll\", \"it's\", 'its', 'itself', \"i've\", 'just', 'll', 'm', 'ma', 'me', 'mightn', \"mightn't\", 'more', 'most', 'mustn', \"mustn't\", 'my', 'myself', 'needn', \"needn't\", 'no', 'nor', 'not', 'now', 'o', 'of', 'off', 'on', 'once', 'only', 'or', 'other', 'our', 'ours', 'ourselves', 'out', 'over', 'own', 're', 's', 'same', 'shan', \"shan't\", 'she', \"she'd\", \"she'll\", \"she's\", 'should', 'shouldn', \"shouldn't\", \"should've\", 'so', 'some', 'such', 't', 'than', 'that', \"that'll\", 'the', 'their', 'theirs', 'them', 'themselves', 'then', 'there', 'these', 'they', \"they'd\", \"they'll\", \"they're\", \"they've\", 'this', 'those', 'through', 'to', 'too', 'under', 'until', 'up', 've', 'very', 'was', 'wasn', \"wasn't\", 'we', \"we'd\", \"we'll\", \"we're\", 'were', 'weren', \"weren't\", \"we've\", 'what', 'when', 'where', 'which', 'while', 'who', 'whom', 'why', 'will', 'with', 'won', \"won't\", 'wouldn', \"wouldn't\", 'y', 'you', \"you'd\", \"you'll\", 'your', \"you're\", 'yours', 'yourself', 'yourselves', \"you've\"]\n"
     ]
    }
   ],
   "source": [
    "print(stopwords.words(\"english\"))"
   ]
  },
  {
   "cell_type": "code",
   "execution_count": 99,
   "id": "9e0c982c-501f-4e18-9b61-98fb2ffad159",
   "metadata": {},
   "outputs": [
    {
     "name": "stderr",
     "output_type": "stream",
     "text": [
      "[nltk_data] Downloading package wordnet to C:\\Users\\Acer\n",
      "[nltk_data]     Nitro\\AppData\\Roaming\\nltk_data...\n",
      "[nltk_data] Downloading package omw-1.4 to C:\\Users\\Acer\n",
      "[nltk_data]     Nitro\\AppData\\Roaming\\nltk_data...\n"
     ]
    },
    {
     "data": {
      "text/plain": [
       "True"
      ]
     },
     "execution_count": 99,
     "metadata": {},
     "output_type": "execute_result"
    }
   ],
   "source": [
    "nltk.download('wordnet')\n",
    "nltk.download('omw-1.4')"
   ]
  },
  {
   "cell_type": "code",
   "execution_count": 103,
   "id": "539a4667-0d95-44bd-81c3-35d5fd98b66d",
   "metadata": {},
   "outputs": [
    {
     "name": "stdout",
     "output_type": "stream",
     "text": [
      "['i', 'spent', '65', 'feed', '4', 'peopl', 'i', 'normal', 'would', 'justifi', 'good', 'food', 'i', 'receiv', 'far', 'averag']\n"
     ]
    }
   ],
   "source": [
    "## Stemming \n",
    "from nltk.stem.porter import PorterStemmer\n",
    "\n",
    "# Reduce words to their stems\n",
    "stemmed = [PorterStemmer().stem(w) for w in words]\n",
    "print (stemmed)"
   ]
  },
  {
   "cell_type": "code",
   "execution_count": 105,
   "id": "1fe08821-9c6c-497f-8895-b82814c77a66",
   "metadata": {},
   "outputs": [
    {
     "name": "stdout",
     "output_type": "stream",
     "text": [
      "['I', 'spent', '65', 'feeding', '4', 'people', 'I', 'normally', 'would', 'justify', 'good', 'food', 'I', 'received', 'far', 'average']\n"
     ]
    }
   ],
   "source": [
    "## Lemmatization\n",
    "from nltk.stem.wordnet import WordNetLemmatizer\n",
    "\n",
    "##\n",
    "lemmatized= [WordNetLemmatizer().lemmatize(w) for w in words]\n",
    "print(lemmatized)\n"
   ]
  },
  {
   "cell_type": "code",
   "execution_count": 115,
   "id": "be158d3e-7cc2-44d8-a16a-9321791d8ac0",
   "metadata": {},
   "outputs": [
    {
     "name": "stderr",
     "output_type": "stream",
     "text": [
      "[nltk_data] Downloading package averaged_perceptron_tagger to\n",
      "[nltk_data]     C:\\Users\\Acer Nitro\\AppData\\Roaming\\nltk_data...\n",
      "[nltk_data]   Unzipping taggers\\averaged_perceptron_tagger.zip.\n",
      "[nltk_data] Downloading package maxent_ne_chunker to C:\\Users\\Acer\n",
      "[nltk_data]     Nitro\\AppData\\Roaming\\nltk_data...\n",
      "[nltk_data]   Package maxent_ne_chunker is already up-to-date!\n"
     ]
    },
    {
     "data": {
      "text/plain": [
       "True"
      ]
     },
     "execution_count": 115,
     "metadata": {},
     "output_type": "execute_result"
    }
   ],
   "source": [
    "nltk.download('averaged_perceptron_tagger')\n",
    "nltk.download('maxent_ne_chunker')"
   ]
  },
  {
   "cell_type": "code",
   "execution_count": 117,
   "id": "9a6c5d8a-b482-454a-9a3d-23310075c35f",
   "metadata": {},
   "outputs": [],
   "source": [
    "from nltk import pos_tag"
   ]
  },
  {
   "cell_type": "code",
   "execution_count": 119,
   "id": "bf6c7d0e-7996-4cba-8313-c8b8ae4ea818",
   "metadata": {},
   "outputs": [
    {
     "data": {
      "text/plain": [
       "[('I', 'PRP'),\n",
       " ('spent', 'VBD'),\n",
       " ('65', 'CD'),\n",
       " ('feeding', 'VBG'),\n",
       " ('4', 'CD'),\n",
       " ('people', 'NNS'),\n",
       " ('I', 'PRP'),\n",
       " ('normally', 'RB'),\n",
       " ('would', 'MD'),\n",
       " ('justify', 'VB'),\n",
       " ('good', 'JJ'),\n",
       " ('food', 'NN'),\n",
       " ('I', 'PRP'),\n",
       " ('received', 'VBD'),\n",
       " ('far', 'RB'),\n",
       " ('average', 'JJ')]"
      ]
     },
     "execution_count": 119,
     "metadata": {},
     "output_type": "execute_result"
    }
   ],
   "source": [
    "pos_tag(words)"
   ]
  },
  {
   "cell_type": "code",
   "execution_count": 123,
   "id": "e4f1bf89-b43e-4c07-8fff-e6c2e7f576b8",
   "metadata": {},
   "outputs": [
    {
     "name": "stderr",
     "output_type": "stream",
     "text": [
      "[nltk_data] Downloading package words to C:\\Users\\Acer\n",
      "[nltk_data]     Nitro\\AppData\\Roaming\\nltk_data...\n",
      "[nltk_data]   Unzipping corpora\\words.zip.\n"
     ]
    },
    {
     "data": {
      "text/plain": [
       "True"
      ]
     },
     "execution_count": 123,
     "metadata": {},
     "output_type": "execute_result"
    }
   ],
   "source": [
    "##Named entity recognition\n",
    "\n",
    "from nltk import ne_chunk\n",
    "nltk.download('words')"
   ]
  },
  {
   "cell_type": "code",
   "execution_count": 127,
   "id": "6d39bdc3-6684-4073-9ddf-55f29540b20e",
   "metadata": {},
   "outputs": [
    {
     "name": "stdout",
     "output_type": "stream",
     "text": [
      "(S\n",
      "  I/PRP\n",
      "  ordered/VBD\n",
      "  tonight/NN\n",
      "  for/IN\n",
      "  the/DT\n",
      "  first/JJ\n",
      "  time/NN\n",
      "  since/IN\n",
      "  May/NNP\n",
      "  and/CC\n",
      "  can/MD\n",
      "  ’/VB\n",
      "  t/JJ\n",
      "  get/NN\n",
      "  over/IN\n",
      "  the/DT\n",
      "  drop/NN\n",
      "  in/IN\n",
      "  quality/NN\n",
      "  and/CC\n",
      "  portion/NN\n",
      "  size/NN\n",
      "  of/IN\n",
      "  the/DT\n",
      "  food/NN\n",
      "  ./.)\n"
     ]
    }
   ],
   "source": [
    "ner_tree = ne_chunk(pos_tag(word_tokenize(seg_sentences[0])))\n",
    "print(ner_tree)"
   ]
  },
  {
   "cell_type": "markdown",
   "id": "b78bd6a4-91d8-4604-8963-18822c05800f",
   "metadata": {},
   "source": [
    "## Spacy Tutorial \n",
    "https://www.youtube.com/watch?v=M7SWr5xObkA&t=2s Reference "
   ]
  },
  {
   "cell_type": "code",
   "execution_count": 5,
   "id": "116681f5-9f11-4f2f-89cd-287a7cbfd560",
   "metadata": {},
   "outputs": [
    {
     "name": "stdout",
     "output_type": "stream",
     "text": [
      "Collecting en-core-web-md==3.8.0\n",
      "  Downloading https://github.com/explosion/spacy-models/releases/download/en_core_web_md-3.8.0/en_core_web_md-3.8.0-py3-none-any.whl (33.5 MB)\n",
      "     ---------------------------------------- 0.0/33.5 MB ? eta -:--:--\n",
      "     ---------------------------------------- 0.0/33.5 MB ? eta -:--:--\n",
      "     --------------------------------------- 0.0/33.5 MB 217.9 kB/s eta 0:02:34\n",
      "     --------------------------------------- 0.0/33.5 MB 279.3 kB/s eta 0:02:00\n",
      "     --------------------------------------- 0.1/33.5 MB 262.6 kB/s eta 0:02:08\n",
      "     --------------------------------------- 0.1/33.5 MB 262.6 kB/s eta 0:02:08\n",
      "     --------------------------------------- 0.2/33.5 MB 696.3 kB/s eta 0:00:48\n",
      "      --------------------------------------- 0.5/33.5 MB 1.8 MB/s eta 0:00:19\n",
      "     - -------------------------------------- 1.2/33.5 MB 3.6 MB/s eta 0:00:09\n",
      "     --- ------------------------------------ 2.6/33.5 MB 6.5 MB/s eta 0:00:05\n",
      "     ----- ---------------------------------- 4.4/33.5 MB 10.1 MB/s eta 0:00:03\n",
      "     ------- -------------------------------- 6.4/33.5 MB 13.2 MB/s eta 0:00:03\n",
      "     ---------- ----------------------------- 8.6/33.5 MB 16.2 MB/s eta 0:00:02\n",
      "     ----------- --------------------------- 10.0/33.5 MB 17.3 MB/s eta 0:00:02\n",
      "     ------------- ------------------------- 11.2/33.5 MB 34.4 MB/s eta 0:00:01\n",
      "     --------------- ----------------------- 13.3/33.5 MB 38.5 MB/s eta 0:00:01\n",
      "     ----------------- --------------------- 15.3/33.5 MB 38.5 MB/s eta 0:00:01\n",
      "     -------------------- ------------------ 17.3/33.5 MB 38.5 MB/s eta 0:00:01\n",
      "     ---------------------- ---------------- 19.7/33.5 MB 40.9 MB/s eta 0:00:01\n",
      "     ------------------------ -------------- 21.1/33.5 MB 40.9 MB/s eta 0:00:01\n",
      "     --------------------------- ----------- 23.6/33.5 MB 43.7 MB/s eta 0:00:01\n",
      "     ------------------------------ -------- 26.0/33.5 MB 46.9 MB/s eta 0:00:01\n",
      "     -------------------------------- ------ 27.9/33.5 MB 46.7 MB/s eta 0:00:01\n",
      "     ----------------------------------- --- 30.3/33.5 MB 46.7 MB/s eta 0:00:01\n",
      "     ------------------------------------- - 32.2/33.5 MB 46.7 MB/s eta 0:00:01\n",
      "     --------------------------------------  33.5/33.5 MB 46.7 MB/s eta 0:00:01\n",
      "     --------------------------------------- 33.5/33.5 MB 38.4 MB/s eta 0:00:00\n",
      "Installing collected packages: en-core-web-md\n",
      "Successfully installed en-core-web-md-3.8.0\n",
      "\u001b[38;5;2m[+] Download and installation successful\u001b[0m\n",
      "You can now load the package via spacy.load('en_core_web_md')\n"
     ]
    }
   ],
   "source": [
    "!python -m spacy download en_core_web_md"
   ]
  },
  {
   "cell_type": "code",
   "execution_count": 1,
   "id": "72fbb531-119b-452a-b4d7-bf5a3fba7eec",
   "metadata": {},
   "outputs": [],
   "source": [
    "import spacy"
   ]
  },
  {
   "cell_type": "code",
   "execution_count": 7,
   "id": "3712d266-2c50-4f10-b327-4eb3540f844b",
   "metadata": {},
   "outputs": [],
   "source": [
    "nlp = spacy.load(\"en_core_web_md\")"
   ]
  },
  {
   "cell_type": "code",
   "execution_count": 9,
   "id": "a298e947-f4de-47f8-bf79-c977d7dc1c04",
   "metadata": {},
   "outputs": [],
   "source": [
    "textS = \"I ordered tonight for the first time since May and can’t get over the drop in quality and portion size of the food. I spent €65 feeding 4 people which I normally would justify for good food but what I received was far below average. Feel free to contact me about this disappointing order\""
   ]
  },
  {
   "cell_type": "code",
   "execution_count": 25,
   "id": "068208b6-d1d3-44eb-805e-b0b59f40ea7d",
   "metadata": {},
   "outputs": [],
   "source": [
    "docs = [nlp(text) for text in seg_sentences]"
   ]
  },
  {
   "cell_type": "code",
   "execution_count": 27,
   "id": "8f68e7a2-efef-4da1-b3ed-366f0e217c99",
   "metadata": {},
   "outputs": [
    {
     "name": "stdout",
     "output_type": "stream",
     "text": [
      "[I ordered tonight for the first time since May and can’t get over the drop in quality and portion size of the food., I spent €65 feeding 4 people which I normally would justify for good food but what I received was far below average., Feel free to contact me about this disappointing order]\n"
     ]
    }
   ],
   "source": [
    "print(docs)"
   ]
  },
  {
   "cell_type": "code",
   "execution_count": null,
   "id": "fa9fd128-0670-4355-98fe-47c92d5fe98c",
   "metadata": {},
   "outputs": [],
   "source": [
    "#print(docs[0].vector)"
   ]
  },
  {
   "cell_type": "code",
   "execution_count": 31,
   "id": "8fe85caa-e17d-4bf1-b301-416e13614863",
   "metadata": {},
   "outputs": [],
   "source": [
    "### Managing the vectors for X wich are the samples we need Y as for supervised training \n",
    "train_x_word_vectors = [x.vector for x in docs]\n",
    "##### NEED TRAIN Y "
   ]
  },
  {
   "cell_type": "code",
   "execution_count": null,
   "id": "f1eaae9a-b2b0-43cd-b2b8-536bfa35a124",
   "metadata": {},
   "outputs": [],
   "source": [
    "from sklearn import svm\n",
    "#Training linear model \n",
    "clf_svm_wordvector = svm.SVC(kernel='linear')\n",
    "clf_svm_wordvector.fit(train_x_word_vectors, train_y)"
   ]
  },
  {
   "cell_type": "code",
   "execution_count": null,
   "id": "d341b848-1706-41c0-9c19-6b6b3f3caa5b",
   "metadata": {},
   "outputs": [],
   "source": [
    "#Test \n",
    "test_x = ['I hated my food']\n",
    "test_docs = [nlp(text) for text in test_x]\n",
    "test_x_word_vectors = [x.vector for in test_docs]\n",
    "clf_svm_wordvector.predict(test_x_word_vectors)"
   ]
  }
 ],
 "metadata": {
  "kernelspec": {
   "display_name": "Python 3 (ipykernel)",
   "language": "python",
   "name": "python3"
  },
  "language_info": {
   "codemirror_mode": {
    "name": "ipython",
    "version": 3
   },
   "file_extension": ".py",
   "mimetype": "text/x-python",
   "name": "python",
   "nbconvert_exporter": "python",
   "pygments_lexer": "ipython3",
   "version": "3.12.4"
  }
 },
 "nbformat": 4,
 "nbformat_minor": 5
}
